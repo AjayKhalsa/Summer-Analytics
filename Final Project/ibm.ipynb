{
 "cells": [
  {
   "cell_type": "code",
   "execution_count": 29,
   "metadata": {},
   "outputs": [
    {
     "data": {
      "text/html": [
       "        <script type=\"text/javascript\">\n",
       "        window.PlotlyConfig = {MathJaxConfig: 'local'};\n",
       "        if (window.MathJax) {MathJax.Hub.Config({SVG: {font: \"STIX-Web\"}});}\n",
       "        if (typeof require !== 'undefined') {\n",
       "        require.undef(\"plotly\");\n",
       "        requirejs.config({\n",
       "            paths: {\n",
       "                'plotly': ['https://cdn.plot.ly/plotly-latest.min']\n",
       "            }\n",
       "        });\n",
       "        require(['plotly'], function(Plotly) {\n",
       "            window._Plotly = Plotly;\n",
       "        });\n",
       "        }\n",
       "        </script>\n",
       "        "
      ]
     },
     "metadata": {},
     "output_type": "display_data"
    }
   ],
   "source": [
    "import numpy as np # linear algebra\n",
    "import pandas as pd # data processing, CSV file I/O (e.g. pd.read_csv)\n",
    "import seaborn as sns\n",
    "import matplotlib.pyplot as plt\n",
    "%matplotlib inline\n",
    "\n",
    "# Import statements required for Plotly \n",
    "import plotly.offline as py\n",
    "py.init_notebook_mode(connected=True)\n",
    "import plotly.graph_objs as go\n",
    "import plotly.tools as tls\n",
    "\n",
    "\n",
    "from sklearn.ensemble import RandomForestClassifier, GradientBoostingClassifier\n",
    "from sklearn.linear_model import LogisticRegression\n",
    "from sklearn.metrics import (accuracy_score, log_loss, classification_report)\n",
    "from imblearn.over_sampling import SMOTE\n",
    "import xgboost\n",
    "\n",
    "# Import and suppress warnings\n",
    "import warnings\n",
    "warnings.filterwarnings('ignore')"
   ]
  },
  {
   "cell_type": "code",
   "execution_count": 66,
   "metadata": {},
   "outputs": [],
   "source": [
    "attrition = pd.read_csv('train.csv')\n",
    "test=pd.read_csv('test.csv')\n",
    "attrition.head()\n",
    "attrition.drop('EmployeeNumber',axis=1,inplace=True)\n",
    "test.drop('EmployeeNumber',axis=1,inplace=True)"
   ]
  },
  {
   "cell_type": "code",
   "execution_count": 67,
   "metadata": {},
   "outputs": [
    {
     "data": {
      "text/plain": [
       "Id                         False\n",
       "Age                        False\n",
       "Attrition                  False\n",
       "BusinessTravel             False\n",
       "Department                 False\n",
       "DistanceFromHome           False\n",
       "Education                  False\n",
       "EducationField             False\n",
       "EnvironmentSatisfaction    False\n",
       "Gender                     False\n",
       "JobInvolvement             False\n",
       "JobRole                    False\n",
       "JobSatisfaction            False\n",
       "MaritalStatus              False\n",
       "MonthlyIncome              False\n",
       "NumCompaniesWorked         False\n",
       "OverTime                   False\n",
       "PercentSalaryHike          False\n",
       "PerformanceRating          False\n",
       "StockOptionLevel           False\n",
       "TotalWorkingYears          False\n",
       "TrainingTimesLastYear      False\n",
       "YearsAtCompany             False\n",
       "YearsInCurrentRole         False\n",
       "YearsSinceLastPromotion    False\n",
       "YearsWithCurrManager       False\n",
       "CommunicationSkill         False\n",
       "Behaviour                  False\n",
       "dtype: bool"
      ]
     },
     "metadata": {},
     "output_type": "display_data"
    }
   ],
   "source": [
    "display(attrition.isnull().any())"
   ]
  },
  {
   "cell_type": "code",
   "execution_count": 68,
   "metadata": {},
   "outputs": [
    {
     "data": {
      "text/html": [
       "<div>\n",
       "<style scoped>\n",
       "    .dataframe tbody tr th:only-of-type {\n",
       "        vertical-align: middle;\n",
       "    }\n",
       "\n",
       "    .dataframe tbody tr th {\n",
       "        vertical-align: top;\n",
       "    }\n",
       "\n",
       "    .dataframe thead th {\n",
       "        text-align: right;\n",
       "    }\n",
       "</style>\n",
       "<table border=\"1\" class=\"dataframe\">\n",
       "  <thead>\n",
       "    <tr style=\"text-align: right;\">\n",
       "      <th></th>\n",
       "      <th>Id</th>\n",
       "      <th>Age</th>\n",
       "      <th>Attrition</th>\n",
       "      <th>DistanceFromHome</th>\n",
       "      <th>Education</th>\n",
       "      <th>EnvironmentSatisfaction</th>\n",
       "      <th>JobInvolvement</th>\n",
       "      <th>JobSatisfaction</th>\n",
       "      <th>MonthlyIncome</th>\n",
       "      <th>NumCompaniesWorked</th>\n",
       "      <th>...</th>\n",
       "      <th>PerformanceRating</th>\n",
       "      <th>StockOptionLevel</th>\n",
       "      <th>TotalWorkingYears</th>\n",
       "      <th>TrainingTimesLastYear</th>\n",
       "      <th>YearsAtCompany</th>\n",
       "      <th>YearsInCurrentRole</th>\n",
       "      <th>YearsSinceLastPromotion</th>\n",
       "      <th>YearsWithCurrManager</th>\n",
       "      <th>CommunicationSkill</th>\n",
       "      <th>Behaviour</th>\n",
       "    </tr>\n",
       "  </thead>\n",
       "  <tbody>\n",
       "    <tr>\n",
       "      <th>Id</th>\n",
       "      <td>1.000000</td>\n",
       "      <td>-0.156452</td>\n",
       "      <td>0.694838</td>\n",
       "      <td>0.072305</td>\n",
       "      <td>-0.035610</td>\n",
       "      <td>-0.100908</td>\n",
       "      <td>-0.127778</td>\n",
       "      <td>-0.105379</td>\n",
       "      <td>-0.178736</td>\n",
       "      <td>0.008325</td>\n",
       "      <td>...</td>\n",
       "      <td>0.022698</td>\n",
       "      <td>-0.118617</td>\n",
       "      <td>-0.193855</td>\n",
       "      <td>-0.080326</td>\n",
       "      <td>-0.156880</td>\n",
       "      <td>-0.183577</td>\n",
       "      <td>-0.039062</td>\n",
       "      <td>-0.164596</td>\n",
       "      <td>0.083742</td>\n",
       "      <td>NaN</td>\n",
       "    </tr>\n",
       "    <tr>\n",
       "      <th>Age</th>\n",
       "      <td>-0.156452</td>\n",
       "      <td>1.000000</td>\n",
       "      <td>-0.200596</td>\n",
       "      <td>0.020658</td>\n",
       "      <td>0.219237</td>\n",
       "      <td>0.001950</td>\n",
       "      <td>0.073185</td>\n",
       "      <td>0.037604</td>\n",
       "      <td>0.509210</td>\n",
       "      <td>0.312099</td>\n",
       "      <td>...</td>\n",
       "      <td>0.002982</td>\n",
       "      <td>0.126257</td>\n",
       "      <td>0.675578</td>\n",
       "      <td>0.004789</td>\n",
       "      <td>0.355438</td>\n",
       "      <td>0.266728</td>\n",
       "      <td>0.222113</td>\n",
       "      <td>0.263792</td>\n",
       "      <td>0.019341</td>\n",
       "      <td>NaN</td>\n",
       "    </tr>\n",
       "    <tr>\n",
       "      <th>Attrition</th>\n",
       "      <td>0.694838</td>\n",
       "      <td>-0.200596</td>\n",
       "      <td>1.000000</td>\n",
       "      <td>0.109224</td>\n",
       "      <td>-0.041390</td>\n",
       "      <td>-0.111746</td>\n",
       "      <td>-0.159710</td>\n",
       "      <td>-0.148012</td>\n",
       "      <td>-0.240479</td>\n",
       "      <td>0.034763</td>\n",
       "      <td>...</td>\n",
       "      <td>0.010202</td>\n",
       "      <td>-0.175496</td>\n",
       "      <td>-0.262922</td>\n",
       "      <td>-0.105663</td>\n",
       "      <td>-0.230061</td>\n",
       "      <td>-0.269408</td>\n",
       "      <td>-0.050379</td>\n",
       "      <td>-0.222752</td>\n",
       "      <td>0.103379</td>\n",
       "      <td>NaN</td>\n",
       "    </tr>\n",
       "    <tr>\n",
       "      <th>DistanceFromHome</th>\n",
       "      <td>0.072305</td>\n",
       "      <td>0.020658</td>\n",
       "      <td>0.109224</td>\n",
       "      <td>1.000000</td>\n",
       "      <td>0.023945</td>\n",
       "      <td>-0.046390</td>\n",
       "      <td>0.016316</td>\n",
       "      <td>-0.097558</td>\n",
       "      <td>0.012521</td>\n",
       "      <td>-0.048131</td>\n",
       "      <td>...</td>\n",
       "      <td>0.071457</td>\n",
       "      <td>0.029378</td>\n",
       "      <td>0.029289</td>\n",
       "      <td>-0.032038</td>\n",
       "      <td>-0.030392</td>\n",
       "      <td>-0.010607</td>\n",
       "      <td>0.004460</td>\n",
       "      <td>-0.004135</td>\n",
       "      <td>-0.036109</td>\n",
       "      <td>NaN</td>\n",
       "    </tr>\n",
       "    <tr>\n",
       "      <th>Education</th>\n",
       "      <td>-0.035610</td>\n",
       "      <td>0.219237</td>\n",
       "      <td>-0.041390</td>\n",
       "      <td>0.023945</td>\n",
       "      <td>1.000000</td>\n",
       "      <td>-0.065041</td>\n",
       "      <td>0.083673</td>\n",
       "      <td>-0.036143</td>\n",
       "      <td>0.119907</td>\n",
       "      <td>0.091690</td>\n",
       "      <td>...</td>\n",
       "      <td>-0.036204</td>\n",
       "      <td>0.042585</td>\n",
       "      <td>0.175662</td>\n",
       "      <td>-0.043272</td>\n",
       "      <td>0.145911</td>\n",
       "      <td>0.076579</td>\n",
       "      <td>0.076430</td>\n",
       "      <td>0.121981</td>\n",
       "      <td>0.000223</td>\n",
       "      <td>NaN</td>\n",
       "    </tr>\n",
       "    <tr>\n",
       "      <th>EnvironmentSatisfaction</th>\n",
       "      <td>-0.100908</td>\n",
       "      <td>0.001950</td>\n",
       "      <td>-0.111746</td>\n",
       "      <td>-0.046390</td>\n",
       "      <td>-0.065041</td>\n",
       "      <td>1.000000</td>\n",
       "      <td>-0.000977</td>\n",
       "      <td>0.035033</td>\n",
       "      <td>-0.033990</td>\n",
       "      <td>-0.051681</td>\n",
       "      <td>...</td>\n",
       "      <td>-0.041427</td>\n",
       "      <td>-0.006479</td>\n",
       "      <td>-0.019005</td>\n",
       "      <td>0.020531</td>\n",
       "      <td>0.000685</td>\n",
       "      <td>0.008028</td>\n",
       "      <td>0.014325</td>\n",
       "      <td>0.002457</td>\n",
       "      <td>-0.011557</td>\n",
       "      <td>NaN</td>\n",
       "    </tr>\n",
       "    <tr>\n",
       "      <th>JobInvolvement</th>\n",
       "      <td>-0.127778</td>\n",
       "      <td>0.073185</td>\n",
       "      <td>-0.159710</td>\n",
       "      <td>0.016316</td>\n",
       "      <td>0.083673</td>\n",
       "      <td>-0.000977</td>\n",
       "      <td>1.000000</td>\n",
       "      <td>-0.005453</td>\n",
       "      <td>0.005859</td>\n",
       "      <td>0.012240</td>\n",
       "      <td>...</td>\n",
       "      <td>-0.063512</td>\n",
       "      <td>0.061673</td>\n",
       "      <td>0.037145</td>\n",
       "      <td>-0.027122</td>\n",
       "      <td>-0.008208</td>\n",
       "      <td>0.029460</td>\n",
       "      <td>0.006373</td>\n",
       "      <td>0.062552</td>\n",
       "      <td>0.052877</td>\n",
       "      <td>NaN</td>\n",
       "    </tr>\n",
       "    <tr>\n",
       "      <th>JobSatisfaction</th>\n",
       "      <td>-0.105379</td>\n",
       "      <td>0.037604</td>\n",
       "      <td>-0.148012</td>\n",
       "      <td>-0.097558</td>\n",
       "      <td>-0.036143</td>\n",
       "      <td>0.035033</td>\n",
       "      <td>-0.005453</td>\n",
       "      <td>1.000000</td>\n",
       "      <td>0.003255</td>\n",
       "      <td>-0.032738</td>\n",
       "      <td>...</td>\n",
       "      <td>-0.078554</td>\n",
       "      <td>0.024867</td>\n",
       "      <td>0.012892</td>\n",
       "      <td>-0.012757</td>\n",
       "      <td>0.023714</td>\n",
       "      <td>0.036065</td>\n",
       "      <td>0.004439</td>\n",
       "      <td>-0.006131</td>\n",
       "      <td>-0.051464</td>\n",
       "      <td>NaN</td>\n",
       "    </tr>\n",
       "    <tr>\n",
       "      <th>MonthlyIncome</th>\n",
       "      <td>-0.178736</td>\n",
       "      <td>0.509210</td>\n",
       "      <td>-0.240479</td>\n",
       "      <td>0.012521</td>\n",
       "      <td>0.119907</td>\n",
       "      <td>-0.033990</td>\n",
       "      <td>0.005859</td>\n",
       "      <td>0.003255</td>\n",
       "      <td>1.000000</td>\n",
       "      <td>0.169025</td>\n",
       "      <td>...</td>\n",
       "      <td>-0.037533</td>\n",
       "      <td>0.012281</td>\n",
       "      <td>0.759658</td>\n",
       "      <td>-0.020173</td>\n",
       "      <td>0.536715</td>\n",
       "      <td>0.418501</td>\n",
       "      <td>0.340080</td>\n",
       "      <td>0.401007</td>\n",
       "      <td>-0.060311</td>\n",
       "      <td>NaN</td>\n",
       "    </tr>\n",
       "    <tr>\n",
       "      <th>NumCompaniesWorked</th>\n",
       "      <td>0.008325</td>\n",
       "      <td>0.312099</td>\n",
       "      <td>0.034763</td>\n",
       "      <td>-0.048131</td>\n",
       "      <td>0.091690</td>\n",
       "      <td>-0.051681</td>\n",
       "      <td>0.012240</td>\n",
       "      <td>-0.032738</td>\n",
       "      <td>0.169025</td>\n",
       "      <td>1.000000</td>\n",
       "      <td>...</td>\n",
       "      <td>-0.015765</td>\n",
       "      <td>0.069008</td>\n",
       "      <td>0.226706</td>\n",
       "      <td>-0.043610</td>\n",
       "      <td>-0.099854</td>\n",
       "      <td>-0.081803</td>\n",
       "      <td>-0.046999</td>\n",
       "      <td>-0.116915</td>\n",
       "      <td>0.013289</td>\n",
       "      <td>NaN</td>\n",
       "    </tr>\n",
       "    <tr>\n",
       "      <th>PercentSalaryHike</th>\n",
       "      <td>-0.003705</td>\n",
       "      <td>0.034546</td>\n",
       "      <td>-0.012668</td>\n",
       "      <td>0.103452</td>\n",
       "      <td>0.013565</td>\n",
       "      <td>-0.032655</td>\n",
       "      <td>-0.042988</td>\n",
       "      <td>-0.077425</td>\n",
       "      <td>-0.017738</td>\n",
       "      <td>0.015858</td>\n",
       "      <td>...</td>\n",
       "      <td>0.785024</td>\n",
       "      <td>0.025835</td>\n",
       "      <td>0.006266</td>\n",
       "      <td>0.008500</td>\n",
       "      <td>0.002299</td>\n",
       "      <td>0.029127</td>\n",
       "      <td>-0.036528</td>\n",
       "      <td>0.020399</td>\n",
       "      <td>0.004156</td>\n",
       "      <td>NaN</td>\n",
       "    </tr>\n",
       "    <tr>\n",
       "      <th>PerformanceRating</th>\n",
       "      <td>0.022698</td>\n",
       "      <td>0.002982</td>\n",
       "      <td>0.010202</td>\n",
       "      <td>0.071457</td>\n",
       "      <td>-0.036204</td>\n",
       "      <td>-0.041427</td>\n",
       "      <td>-0.063512</td>\n",
       "      <td>-0.078554</td>\n",
       "      <td>-0.037533</td>\n",
       "      <td>-0.015765</td>\n",
       "      <td>...</td>\n",
       "      <td>1.000000</td>\n",
       "      <td>-0.015967</td>\n",
       "      <td>0.007456</td>\n",
       "      <td>-0.008390</td>\n",
       "      <td>0.010464</td>\n",
       "      <td>0.044550</td>\n",
       "      <td>-0.008880</td>\n",
       "      <td>0.038074</td>\n",
       "      <td>0.035701</td>\n",
       "      <td>NaN</td>\n",
       "    </tr>\n",
       "    <tr>\n",
       "      <th>StockOptionLevel</th>\n",
       "      <td>-0.118617</td>\n",
       "      <td>0.126257</td>\n",
       "      <td>-0.175496</td>\n",
       "      <td>0.029378</td>\n",
       "      <td>0.042585</td>\n",
       "      <td>-0.006479</td>\n",
       "      <td>0.061673</td>\n",
       "      <td>0.024867</td>\n",
       "      <td>0.012281</td>\n",
       "      <td>0.069008</td>\n",
       "      <td>...</td>\n",
       "      <td>-0.015967</td>\n",
       "      <td>1.000000</td>\n",
       "      <td>0.042878</td>\n",
       "      <td>0.015991</td>\n",
       "      <td>0.016860</td>\n",
       "      <td>0.057380</td>\n",
       "      <td>-0.011862</td>\n",
       "      <td>0.018579</td>\n",
       "      <td>-0.014120</td>\n",
       "      <td>NaN</td>\n",
       "    </tr>\n",
       "    <tr>\n",
       "      <th>TotalWorkingYears</th>\n",
       "      <td>-0.193855</td>\n",
       "      <td>0.675578</td>\n",
       "      <td>-0.262922</td>\n",
       "      <td>0.029289</td>\n",
       "      <td>0.175662</td>\n",
       "      <td>-0.019005</td>\n",
       "      <td>0.037145</td>\n",
       "      <td>0.012892</td>\n",
       "      <td>0.759658</td>\n",
       "      <td>0.226706</td>\n",
       "      <td>...</td>\n",
       "      <td>0.007456</td>\n",
       "      <td>0.042878</td>\n",
       "      <td>1.000000</td>\n",
       "      <td>-0.018783</td>\n",
       "      <td>0.667632</td>\n",
       "      <td>0.504922</td>\n",
       "      <td>0.395785</td>\n",
       "      <td>0.515849</td>\n",
       "      <td>-0.010829</td>\n",
       "      <td>NaN</td>\n",
       "    </tr>\n",
       "    <tr>\n",
       "      <th>TrainingTimesLastYear</th>\n",
       "      <td>-0.080326</td>\n",
       "      <td>0.004789</td>\n",
       "      <td>-0.105663</td>\n",
       "      <td>-0.032038</td>\n",
       "      <td>-0.043272</td>\n",
       "      <td>0.020531</td>\n",
       "      <td>-0.027122</td>\n",
       "      <td>-0.012757</td>\n",
       "      <td>-0.020173</td>\n",
       "      <td>-0.043610</td>\n",
       "      <td>...</td>\n",
       "      <td>-0.008390</td>\n",
       "      <td>0.015991</td>\n",
       "      <td>-0.018783</td>\n",
       "      <td>1.000000</td>\n",
       "      <td>-0.001098</td>\n",
       "      <td>-0.008939</td>\n",
       "      <td>-0.019341</td>\n",
       "      <td>-0.015937</td>\n",
       "      <td>-0.050569</td>\n",
       "      <td>NaN</td>\n",
       "    </tr>\n",
       "    <tr>\n",
       "      <th>YearsAtCompany</th>\n",
       "      <td>-0.156880</td>\n",
       "      <td>0.355438</td>\n",
       "      <td>-0.230061</td>\n",
       "      <td>-0.030392</td>\n",
       "      <td>0.145911</td>\n",
       "      <td>0.000685</td>\n",
       "      <td>-0.008208</td>\n",
       "      <td>0.023714</td>\n",
       "      <td>0.536715</td>\n",
       "      <td>-0.099854</td>\n",
       "      <td>...</td>\n",
       "      <td>0.010464</td>\n",
       "      <td>0.016860</td>\n",
       "      <td>0.667632</td>\n",
       "      <td>-0.001098</td>\n",
       "      <td>1.000000</td>\n",
       "      <td>0.771813</td>\n",
       "      <td>0.607823</td>\n",
       "      <td>0.803554</td>\n",
       "      <td>-0.057878</td>\n",
       "      <td>NaN</td>\n",
       "    </tr>\n",
       "    <tr>\n",
       "      <th>YearsInCurrentRole</th>\n",
       "      <td>-0.183577</td>\n",
       "      <td>0.266728</td>\n",
       "      <td>-0.269408</td>\n",
       "      <td>-0.010607</td>\n",
       "      <td>0.076579</td>\n",
       "      <td>0.008028</td>\n",
       "      <td>0.029460</td>\n",
       "      <td>0.036065</td>\n",
       "      <td>0.418501</td>\n",
       "      <td>-0.081803</td>\n",
       "      <td>...</td>\n",
       "      <td>0.044550</td>\n",
       "      <td>0.057380</td>\n",
       "      <td>0.504922</td>\n",
       "      <td>-0.008939</td>\n",
       "      <td>0.771813</td>\n",
       "      <td>1.000000</td>\n",
       "      <td>0.568734</td>\n",
       "      <td>0.733661</td>\n",
       "      <td>-0.030441</td>\n",
       "      <td>NaN</td>\n",
       "    </tr>\n",
       "    <tr>\n",
       "      <th>YearsSinceLastPromotion</th>\n",
       "      <td>-0.039062</td>\n",
       "      <td>0.222113</td>\n",
       "      <td>-0.050379</td>\n",
       "      <td>0.004460</td>\n",
       "      <td>0.076430</td>\n",
       "      <td>0.014325</td>\n",
       "      <td>0.006373</td>\n",
       "      <td>0.004439</td>\n",
       "      <td>0.340080</td>\n",
       "      <td>-0.046999</td>\n",
       "      <td>...</td>\n",
       "      <td>-0.008880</td>\n",
       "      <td>-0.011862</td>\n",
       "      <td>0.395785</td>\n",
       "      <td>-0.019341</td>\n",
       "      <td>0.607823</td>\n",
       "      <td>0.568734</td>\n",
       "      <td>1.000000</td>\n",
       "      <td>0.589437</td>\n",
       "      <td>-0.036682</td>\n",
       "      <td>NaN</td>\n",
       "    </tr>\n",
       "    <tr>\n",
       "      <th>YearsWithCurrManager</th>\n",
       "      <td>-0.164596</td>\n",
       "      <td>0.263792</td>\n",
       "      <td>-0.222752</td>\n",
       "      <td>-0.004135</td>\n",
       "      <td>0.121981</td>\n",
       "      <td>0.002457</td>\n",
       "      <td>0.062552</td>\n",
       "      <td>-0.006131</td>\n",
       "      <td>0.401007</td>\n",
       "      <td>-0.116915</td>\n",
       "      <td>...</td>\n",
       "      <td>0.038074</td>\n",
       "      <td>0.018579</td>\n",
       "      <td>0.515849</td>\n",
       "      <td>-0.015937</td>\n",
       "      <td>0.803554</td>\n",
       "      <td>0.733661</td>\n",
       "      <td>0.589437</td>\n",
       "      <td>1.000000</td>\n",
       "      <td>-0.026457</td>\n",
       "      <td>NaN</td>\n",
       "    </tr>\n",
       "    <tr>\n",
       "      <th>CommunicationSkill</th>\n",
       "      <td>0.083742</td>\n",
       "      <td>0.019341</td>\n",
       "      <td>0.103379</td>\n",
       "      <td>-0.036109</td>\n",
       "      <td>0.000223</td>\n",
       "      <td>-0.011557</td>\n",
       "      <td>0.052877</td>\n",
       "      <td>-0.051464</td>\n",
       "      <td>-0.060311</td>\n",
       "      <td>0.013289</td>\n",
       "      <td>...</td>\n",
       "      <td>0.035701</td>\n",
       "      <td>-0.014120</td>\n",
       "      <td>-0.010829</td>\n",
       "      <td>-0.050569</td>\n",
       "      <td>-0.057878</td>\n",
       "      <td>-0.030441</td>\n",
       "      <td>-0.036682</td>\n",
       "      <td>-0.026457</td>\n",
       "      <td>1.000000</td>\n",
       "      <td>NaN</td>\n",
       "    </tr>\n",
       "    <tr>\n",
       "      <th>Behaviour</th>\n",
       "      <td>NaN</td>\n",
       "      <td>NaN</td>\n",
       "      <td>NaN</td>\n",
       "      <td>NaN</td>\n",
       "      <td>NaN</td>\n",
       "      <td>NaN</td>\n",
       "      <td>NaN</td>\n",
       "      <td>NaN</td>\n",
       "      <td>NaN</td>\n",
       "      <td>NaN</td>\n",
       "      <td>...</td>\n",
       "      <td>NaN</td>\n",
       "      <td>NaN</td>\n",
       "      <td>NaN</td>\n",
       "      <td>NaN</td>\n",
       "      <td>NaN</td>\n",
       "      <td>NaN</td>\n",
       "      <td>NaN</td>\n",
       "      <td>NaN</td>\n",
       "      <td>NaN</td>\n",
       "      <td>NaN</td>\n",
       "    </tr>\n",
       "  </tbody>\n",
       "</table>\n",
       "<p>21 rows × 21 columns</p>\n",
       "</div>"
      ],
      "text/plain": [
       "                               Id       Age  Attrition  DistanceFromHome  \\\n",
       "Id                       1.000000 -0.156452   0.694838          0.072305   \n",
       "Age                     -0.156452  1.000000  -0.200596          0.020658   \n",
       "Attrition                0.694838 -0.200596   1.000000          0.109224   \n",
       "DistanceFromHome         0.072305  0.020658   0.109224          1.000000   \n",
       "Education               -0.035610  0.219237  -0.041390          0.023945   \n",
       "EnvironmentSatisfaction -0.100908  0.001950  -0.111746         -0.046390   \n",
       "JobInvolvement          -0.127778  0.073185  -0.159710          0.016316   \n",
       "JobSatisfaction         -0.105379  0.037604  -0.148012         -0.097558   \n",
       "MonthlyIncome           -0.178736  0.509210  -0.240479          0.012521   \n",
       "NumCompaniesWorked       0.008325  0.312099   0.034763         -0.048131   \n",
       "PercentSalaryHike       -0.003705  0.034546  -0.012668          0.103452   \n",
       "PerformanceRating        0.022698  0.002982   0.010202          0.071457   \n",
       "StockOptionLevel        -0.118617  0.126257  -0.175496          0.029378   \n",
       "TotalWorkingYears       -0.193855  0.675578  -0.262922          0.029289   \n",
       "TrainingTimesLastYear   -0.080326  0.004789  -0.105663         -0.032038   \n",
       "YearsAtCompany          -0.156880  0.355438  -0.230061         -0.030392   \n",
       "YearsInCurrentRole      -0.183577  0.266728  -0.269408         -0.010607   \n",
       "YearsSinceLastPromotion -0.039062  0.222113  -0.050379          0.004460   \n",
       "YearsWithCurrManager    -0.164596  0.263792  -0.222752         -0.004135   \n",
       "CommunicationSkill       0.083742  0.019341   0.103379         -0.036109   \n",
       "Behaviour                     NaN       NaN        NaN               NaN   \n",
       "\n",
       "                         Education  EnvironmentSatisfaction  JobInvolvement  \\\n",
       "Id                       -0.035610                -0.100908       -0.127778   \n",
       "Age                       0.219237                 0.001950        0.073185   \n",
       "Attrition                -0.041390                -0.111746       -0.159710   \n",
       "DistanceFromHome          0.023945                -0.046390        0.016316   \n",
       "Education                 1.000000                -0.065041        0.083673   \n",
       "EnvironmentSatisfaction  -0.065041                 1.000000       -0.000977   \n",
       "JobInvolvement            0.083673                -0.000977        1.000000   \n",
       "JobSatisfaction          -0.036143                 0.035033       -0.005453   \n",
       "MonthlyIncome             0.119907                -0.033990        0.005859   \n",
       "NumCompaniesWorked        0.091690                -0.051681        0.012240   \n",
       "PercentSalaryHike         0.013565                -0.032655       -0.042988   \n",
       "PerformanceRating        -0.036204                -0.041427       -0.063512   \n",
       "StockOptionLevel          0.042585                -0.006479        0.061673   \n",
       "TotalWorkingYears         0.175662                -0.019005        0.037145   \n",
       "TrainingTimesLastYear    -0.043272                 0.020531       -0.027122   \n",
       "YearsAtCompany            0.145911                 0.000685       -0.008208   \n",
       "YearsInCurrentRole        0.076579                 0.008028        0.029460   \n",
       "YearsSinceLastPromotion   0.076430                 0.014325        0.006373   \n",
       "YearsWithCurrManager      0.121981                 0.002457        0.062552   \n",
       "CommunicationSkill        0.000223                -0.011557        0.052877   \n",
       "Behaviour                      NaN                      NaN             NaN   \n",
       "\n",
       "                         JobSatisfaction  MonthlyIncome  NumCompaniesWorked  \\\n",
       "Id                             -0.105379      -0.178736            0.008325   \n",
       "Age                             0.037604       0.509210            0.312099   \n",
       "Attrition                      -0.148012      -0.240479            0.034763   \n",
       "DistanceFromHome               -0.097558       0.012521           -0.048131   \n",
       "Education                      -0.036143       0.119907            0.091690   \n",
       "EnvironmentSatisfaction         0.035033      -0.033990           -0.051681   \n",
       "JobInvolvement                 -0.005453       0.005859            0.012240   \n",
       "JobSatisfaction                 1.000000       0.003255           -0.032738   \n",
       "MonthlyIncome                   0.003255       1.000000            0.169025   \n",
       "NumCompaniesWorked             -0.032738       0.169025            1.000000   \n",
       "PercentSalaryHike              -0.077425      -0.017738            0.015858   \n",
       "PerformanceRating              -0.078554      -0.037533           -0.015765   \n",
       "StockOptionLevel                0.024867       0.012281            0.069008   \n",
       "TotalWorkingYears               0.012892       0.759658            0.226706   \n",
       "TrainingTimesLastYear          -0.012757      -0.020173           -0.043610   \n",
       "YearsAtCompany                  0.023714       0.536715           -0.099854   \n",
       "YearsInCurrentRole              0.036065       0.418501           -0.081803   \n",
       "YearsSinceLastPromotion         0.004439       0.340080           -0.046999   \n",
       "YearsWithCurrManager           -0.006131       0.401007           -0.116915   \n",
       "CommunicationSkill             -0.051464      -0.060311            0.013289   \n",
       "Behaviour                            NaN            NaN                 NaN   \n",
       "\n",
       "                         ...  PerformanceRating  StockOptionLevel  \\\n",
       "Id                       ...           0.022698         -0.118617   \n",
       "Age                      ...           0.002982          0.126257   \n",
       "Attrition                ...           0.010202         -0.175496   \n",
       "DistanceFromHome         ...           0.071457          0.029378   \n",
       "Education                ...          -0.036204          0.042585   \n",
       "EnvironmentSatisfaction  ...          -0.041427         -0.006479   \n",
       "JobInvolvement           ...          -0.063512          0.061673   \n",
       "JobSatisfaction          ...          -0.078554          0.024867   \n",
       "MonthlyIncome            ...          -0.037533          0.012281   \n",
       "NumCompaniesWorked       ...          -0.015765          0.069008   \n",
       "PercentSalaryHike        ...           0.785024          0.025835   \n",
       "PerformanceRating        ...           1.000000         -0.015967   \n",
       "StockOptionLevel         ...          -0.015967          1.000000   \n",
       "TotalWorkingYears        ...           0.007456          0.042878   \n",
       "TrainingTimesLastYear    ...          -0.008390          0.015991   \n",
       "YearsAtCompany           ...           0.010464          0.016860   \n",
       "YearsInCurrentRole       ...           0.044550          0.057380   \n",
       "YearsSinceLastPromotion  ...          -0.008880         -0.011862   \n",
       "YearsWithCurrManager     ...           0.038074          0.018579   \n",
       "CommunicationSkill       ...           0.035701         -0.014120   \n",
       "Behaviour                ...                NaN               NaN   \n",
       "\n",
       "                         TotalWorkingYears  TrainingTimesLastYear  \\\n",
       "Id                               -0.193855              -0.080326   \n",
       "Age                               0.675578               0.004789   \n",
       "Attrition                        -0.262922              -0.105663   \n",
       "DistanceFromHome                  0.029289              -0.032038   \n",
       "Education                         0.175662              -0.043272   \n",
       "EnvironmentSatisfaction          -0.019005               0.020531   \n",
       "JobInvolvement                    0.037145              -0.027122   \n",
       "JobSatisfaction                   0.012892              -0.012757   \n",
       "MonthlyIncome                     0.759658              -0.020173   \n",
       "NumCompaniesWorked                0.226706              -0.043610   \n",
       "PercentSalaryHike                 0.006266               0.008500   \n",
       "PerformanceRating                 0.007456              -0.008390   \n",
       "StockOptionLevel                  0.042878               0.015991   \n",
       "TotalWorkingYears                 1.000000              -0.018783   \n",
       "TrainingTimesLastYear            -0.018783               1.000000   \n",
       "YearsAtCompany                    0.667632              -0.001098   \n",
       "YearsInCurrentRole                0.504922              -0.008939   \n",
       "YearsSinceLastPromotion           0.395785              -0.019341   \n",
       "YearsWithCurrManager              0.515849              -0.015937   \n",
       "CommunicationSkill               -0.010829              -0.050569   \n",
       "Behaviour                              NaN                    NaN   \n",
       "\n",
       "                         YearsAtCompany  YearsInCurrentRole  \\\n",
       "Id                            -0.156880           -0.183577   \n",
       "Age                            0.355438            0.266728   \n",
       "Attrition                     -0.230061           -0.269408   \n",
       "DistanceFromHome              -0.030392           -0.010607   \n",
       "Education                      0.145911            0.076579   \n",
       "EnvironmentSatisfaction        0.000685            0.008028   \n",
       "JobInvolvement                -0.008208            0.029460   \n",
       "JobSatisfaction                0.023714            0.036065   \n",
       "MonthlyIncome                  0.536715            0.418501   \n",
       "NumCompaniesWorked            -0.099854           -0.081803   \n",
       "PercentSalaryHike              0.002299            0.029127   \n",
       "PerformanceRating              0.010464            0.044550   \n",
       "StockOptionLevel               0.016860            0.057380   \n",
       "TotalWorkingYears              0.667632            0.504922   \n",
       "TrainingTimesLastYear         -0.001098           -0.008939   \n",
       "YearsAtCompany                 1.000000            0.771813   \n",
       "YearsInCurrentRole             0.771813            1.000000   \n",
       "YearsSinceLastPromotion        0.607823            0.568734   \n",
       "YearsWithCurrManager           0.803554            0.733661   \n",
       "CommunicationSkill            -0.057878           -0.030441   \n",
       "Behaviour                           NaN                 NaN   \n",
       "\n",
       "                         YearsSinceLastPromotion  YearsWithCurrManager  \\\n",
       "Id                                     -0.039062             -0.164596   \n",
       "Age                                     0.222113              0.263792   \n",
       "Attrition                              -0.050379             -0.222752   \n",
       "DistanceFromHome                        0.004460             -0.004135   \n",
       "Education                               0.076430              0.121981   \n",
       "EnvironmentSatisfaction                 0.014325              0.002457   \n",
       "JobInvolvement                          0.006373              0.062552   \n",
       "JobSatisfaction                         0.004439             -0.006131   \n",
       "MonthlyIncome                           0.340080              0.401007   \n",
       "NumCompaniesWorked                     -0.046999             -0.116915   \n",
       "PercentSalaryHike                      -0.036528              0.020399   \n",
       "PerformanceRating                      -0.008880              0.038074   \n",
       "StockOptionLevel                       -0.011862              0.018579   \n",
       "TotalWorkingYears                       0.395785              0.515849   \n",
       "TrainingTimesLastYear                  -0.019341             -0.015937   \n",
       "YearsAtCompany                          0.607823              0.803554   \n",
       "YearsInCurrentRole                      0.568734              0.733661   \n",
       "YearsSinceLastPromotion                 1.000000              0.589437   \n",
       "YearsWithCurrManager                    0.589437              1.000000   \n",
       "CommunicationSkill                     -0.036682             -0.026457   \n",
       "Behaviour                                    NaN                   NaN   \n",
       "\n",
       "                         CommunicationSkill  Behaviour  \n",
       "Id                                 0.083742        NaN  \n",
       "Age                                0.019341        NaN  \n",
       "Attrition                          0.103379        NaN  \n",
       "DistanceFromHome                  -0.036109        NaN  \n",
       "Education                          0.000223        NaN  \n",
       "EnvironmentSatisfaction           -0.011557        NaN  \n",
       "JobInvolvement                     0.052877        NaN  \n",
       "JobSatisfaction                   -0.051464        NaN  \n",
       "MonthlyIncome                     -0.060311        NaN  \n",
       "NumCompaniesWorked                 0.013289        NaN  \n",
       "PercentSalaryHike                  0.004156        NaN  \n",
       "PerformanceRating                  0.035701        NaN  \n",
       "StockOptionLevel                  -0.014120        NaN  \n",
       "TotalWorkingYears                 -0.010829        NaN  \n",
       "TrainingTimesLastYear             -0.050569        NaN  \n",
       "YearsAtCompany                    -0.057878        NaN  \n",
       "YearsInCurrentRole                -0.030441        NaN  \n",
       "YearsSinceLastPromotion           -0.036682        NaN  \n",
       "YearsWithCurrManager              -0.026457        NaN  \n",
       "CommunicationSkill                 1.000000        NaN  \n",
       "Behaviour                               NaN        NaN  \n",
       "\n",
       "[21 rows x 21 columns]"
      ]
     },
     "execution_count": 68,
     "metadata": {},
     "output_type": "execute_result"
    }
   ],
   "source": [
    "attrition.corr()"
   ]
  },
  {
   "cell_type": "code",
   "execution_count": 69,
   "metadata": {},
   "outputs": [],
   "source": [
    "categorical = []\n",
    "for col,value in attrition.iteritems():\n",
    "    if value.dtype == 'object':\n",
    "        categorical.append(col)\n",
    "\n",
    "numerical = attrition.columns.difference(categorical)\n",
    "        "
   ]
  },
  {
   "cell_type": "code",
   "execution_count": 34,
   "metadata": {},
   "outputs": [
    {
     "data": {
      "text/plain": [
       "['BusinessTravel',\n",
       " 'Department',\n",
       " 'EducationField',\n",
       " 'Gender',\n",
       " 'JobRole',\n",
       " 'MaritalStatus',\n",
       " 'OverTime']"
      ]
     },
     "execution_count": 34,
     "metadata": {},
     "output_type": "execute_result"
    }
   ],
   "source": [
    "categorical\n"
   ]
  },
  {
   "cell_type": "code",
   "execution_count": 35,
   "metadata": {},
   "outputs": [
    {
     "data": {
      "text/html": [
       "<div>\n",
       "<style scoped>\n",
       "    .dataframe tbody tr th:only-of-type {\n",
       "        vertical-align: middle;\n",
       "    }\n",
       "\n",
       "    .dataframe tbody tr th {\n",
       "        vertical-align: top;\n",
       "    }\n",
       "\n",
       "    .dataframe thead th {\n",
       "        text-align: right;\n",
       "    }\n",
       "</style>\n",
       "<table border=\"1\" class=\"dataframe\">\n",
       "  <thead>\n",
       "    <tr style=\"text-align: right;\">\n",
       "      <th></th>\n",
       "      <th>BusinessTravel_Non-Travel</th>\n",
       "      <th>BusinessTravel_Travel_Frequently</th>\n",
       "      <th>BusinessTravel_Travel_Rarely</th>\n",
       "      <th>Department_Human Resources</th>\n",
       "      <th>Department_Research &amp; Development</th>\n",
       "      <th>Department_Sales</th>\n",
       "      <th>EducationField_Human Resources</th>\n",
       "      <th>EducationField_Life Sciences</th>\n",
       "      <th>EducationField_Marketing</th>\n",
       "      <th>EducationField_Medical</th>\n",
       "      <th>...</th>\n",
       "      <th>JobRole_Manufacturing Director</th>\n",
       "      <th>JobRole_Research Director</th>\n",
       "      <th>JobRole_Research Scientist</th>\n",
       "      <th>JobRole_Sales Executive</th>\n",
       "      <th>JobRole_Sales Representative</th>\n",
       "      <th>MaritalStatus_Divorced</th>\n",
       "      <th>MaritalStatus_Married</th>\n",
       "      <th>MaritalStatus_Single</th>\n",
       "      <th>OverTime_No</th>\n",
       "      <th>OverTime_Yes</th>\n",
       "    </tr>\n",
       "  </thead>\n",
       "  <tbody>\n",
       "    <tr>\n",
       "      <th>0</th>\n",
       "      <td>1</td>\n",
       "      <td>0</td>\n",
       "      <td>0</td>\n",
       "      <td>0</td>\n",
       "      <td>1</td>\n",
       "      <td>0</td>\n",
       "      <td>0</td>\n",
       "      <td>0</td>\n",
       "      <td>0</td>\n",
       "      <td>1</td>\n",
       "      <td>...</td>\n",
       "      <td>0</td>\n",
       "      <td>0</td>\n",
       "      <td>0</td>\n",
       "      <td>0</td>\n",
       "      <td>0</td>\n",
       "      <td>0</td>\n",
       "      <td>0</td>\n",
       "      <td>1</td>\n",
       "      <td>1</td>\n",
       "      <td>0</td>\n",
       "    </tr>\n",
       "    <tr>\n",
       "      <th>1</th>\n",
       "      <td>0</td>\n",
       "      <td>0</td>\n",
       "      <td>1</td>\n",
       "      <td>0</td>\n",
       "      <td>1</td>\n",
       "      <td>0</td>\n",
       "      <td>0</td>\n",
       "      <td>1</td>\n",
       "      <td>0</td>\n",
       "      <td>0</td>\n",
       "      <td>...</td>\n",
       "      <td>1</td>\n",
       "      <td>0</td>\n",
       "      <td>0</td>\n",
       "      <td>0</td>\n",
       "      <td>0</td>\n",
       "      <td>0</td>\n",
       "      <td>1</td>\n",
       "      <td>0</td>\n",
       "      <td>0</td>\n",
       "      <td>1</td>\n",
       "    </tr>\n",
       "    <tr>\n",
       "      <th>2</th>\n",
       "      <td>0</td>\n",
       "      <td>0</td>\n",
       "      <td>1</td>\n",
       "      <td>0</td>\n",
       "      <td>0</td>\n",
       "      <td>1</td>\n",
       "      <td>0</td>\n",
       "      <td>0</td>\n",
       "      <td>0</td>\n",
       "      <td>1</td>\n",
       "      <td>...</td>\n",
       "      <td>0</td>\n",
       "      <td>0</td>\n",
       "      <td>0</td>\n",
       "      <td>1</td>\n",
       "      <td>0</td>\n",
       "      <td>0</td>\n",
       "      <td>0</td>\n",
       "      <td>1</td>\n",
       "      <td>1</td>\n",
       "      <td>0</td>\n",
       "    </tr>\n",
       "  </tbody>\n",
       "</table>\n",
       "<p>3 rows × 28 columns</p>\n",
       "</div>"
      ],
      "text/plain": [
       "   BusinessTravel_Non-Travel  BusinessTravel_Travel_Frequently  \\\n",
       "0                          1                                 0   \n",
       "1                          0                                 0   \n",
       "2                          0                                 0   \n",
       "\n",
       "   BusinessTravel_Travel_Rarely  Department_Human Resources  \\\n",
       "0                             0                           0   \n",
       "1                             1                           0   \n",
       "2                             1                           0   \n",
       "\n",
       "   Department_Research & Development  Department_Sales  \\\n",
       "0                                  1                 0   \n",
       "1                                  1                 0   \n",
       "2                                  0                 1   \n",
       "\n",
       "   EducationField_Human Resources  EducationField_Life Sciences  \\\n",
       "0                               0                             0   \n",
       "1                               0                             1   \n",
       "2                               0                             0   \n",
       "\n",
       "   EducationField_Marketing  EducationField_Medical  ...  \\\n",
       "0                         0                       1  ...   \n",
       "1                         0                       0  ...   \n",
       "2                         0                       1  ...   \n",
       "\n",
       "   JobRole_Manufacturing Director  JobRole_Research Director  \\\n",
       "0                               0                          0   \n",
       "1                               1                          0   \n",
       "2                               0                          0   \n",
       "\n",
       "   JobRole_Research Scientist  JobRole_Sales Executive  \\\n",
       "0                           0                        0   \n",
       "1                           0                        0   \n",
       "2                           0                        1   \n",
       "\n",
       "   JobRole_Sales Representative  MaritalStatus_Divorced  \\\n",
       "0                             0                       0   \n",
       "1                             0                       0   \n",
       "2                             0                       0   \n",
       "\n",
       "   MaritalStatus_Married  MaritalStatus_Single  OverTime_No  OverTime_Yes  \n",
       "0                      0                     1            1             0  \n",
       "1                      1                     0            0             1  \n",
       "2                      0                     1            1             0  \n",
       "\n",
       "[3 rows x 28 columns]"
      ]
     },
     "execution_count": 35,
     "metadata": {},
     "output_type": "execute_result"
    }
   ],
   "source": [
    "attrition_cat = attrition[categorical]\n",
    "attrition_cat = pd.get_dummies(attrition_cat)\n",
    "attrition_cat.head(3)"
   ]
  },
  {
   "cell_type": "code",
   "execution_count": 36,
   "metadata": {},
   "outputs": [],
   "source": [
    "attrition_num = attrition[numerical]"
   ]
  },
  {
   "cell_type": "code",
   "execution_count": 45,
   "metadata": {},
   "outputs": [],
   "source": [
    "attrition_final = pd.concat([attrition_num, attrition_cat], axis=1)\n",
    "attrition_final.drop(['Id','Attrition'],axis=1,inplace=True)"
   ]
  },
  {
   "cell_type": "code",
   "execution_count": null,
   "metadata": {},
   "outputs": [],
   "source": []
  },
  {
   "cell_type": "code",
   "execution_count": 46,
   "metadata": {},
   "outputs": [],
   "source": [
    "from sklearn.model_selection import train_test_split\n",
    "target=attrition['Attrition']\n",
    "train, test, target_train, target_val = train_test_split(attrition_final,target,train_size= 0.80,random_state=0);"
   ]
  },
  {
   "cell_type": "code",
   "execution_count": 47,
   "metadata": {},
   "outputs": [],
   "source": [
    "seed = 0   # We set our random seed to zero for reproducibility\n",
    "# Random Forest parameters\n",
    "rf_params = {\n",
    "    'n_jobs': -1,\n",
    "    'n_estimators': 1000,\n",
    "#     'warm_start': True, \n",
    "    'max_features': 0.3,\n",
    "    'max_depth': 4,\n",
    "    'min_samples_leaf': 2,\n",
    "    'max_features' : 'sqrt',\n",
    "    'random_state' : seed,\n",
    "    'verbose': 0\n",
    "}\n"
   ]
  },
  {
   "cell_type": "code",
   "execution_count": 48,
   "metadata": {},
   "outputs": [],
   "source": [
    "rf = RandomForestClassifier(**rf_params)"
   ]
  },
  {
   "cell_type": "code",
   "execution_count": 49,
   "metadata": {},
   "outputs": [
    {
     "name": "stdout",
     "output_type": "stream",
     "text": [
      "Fitting of Random Forest finished\n"
     ]
    }
   ],
   "source": [
    "rf.fit(train,target_train)\n",
    "print(\"Fitting of Random Forest finished\")"
   ]
  },
  {
   "cell_type": "code",
   "execution_count": 50,
   "metadata": {},
   "outputs": [
    {
     "name": "stdout",
     "output_type": "stream",
     "text": [
      "Predictions finished\n"
     ]
    }
   ],
   "source": [
    "rf_predictions = rf.predict(test)\n",
    "print(\"Predictions finished\")"
   ]
  },
  {
   "cell_type": "code",
   "execution_count": 51,
   "metadata": {},
   "outputs": [
    {
     "name": "stdout",
     "output_type": "stream",
     "text": [
      "Accuracy score: 0.7883435582822086\n",
      "================================================================================\n",
      "              precision    recall  f1-score   support\n",
      "\n",
      "           0       0.76      0.84      0.80       161\n",
      "           1       0.82      0.74      0.78       165\n",
      "\n",
      "    accuracy                           0.79       326\n",
      "   macro avg       0.79      0.79      0.79       326\n",
      "weighted avg       0.79      0.79      0.79       326\n",
      "\n"
     ]
    }
   ],
   "source": [
    "print(\"Accuracy score: {}\".format(accuracy_score(target_val, rf_predictions)))\n",
    "print(\"=\"*80)\n",
    "print(classification_report(target_val, rf_predictions))"
   ]
  },
  {
   "cell_type": "code",
   "execution_count": 52,
   "metadata": {},
   "outputs": [
    {
     "data": {
      "application/vnd.plotly.v1+json": {
       "config": {
        "linkText": "Export to plot.ly",
        "plotlyServerURL": "https://plot.ly",
        "showLink": false
       },
       "data": [
        {
         "marker": {
          "color": [
           0.0748621602895375,
           0,
           0.012476535966787541,
           0.02485681375676978,
           0.005214313785895849,
           0.01836341202606003,
           0.01923134845930926,
           0.020235278218104683,
           0.09510142274086539,
           0.011106641105008367,
           0.01367549965080924,
           0.0014163361864518154,
           0.08183578705738766,
           0.06966781183727667,
           0.01008978353769554,
           0.06165982007587541,
           0.053671326210785325,
           0.010161722845606819,
           0.04065668260767054,
           0.0027862549133824323,
           0.014779497233902188,
           0.002940417006812791,
           0.0007931070536185335,
           0.008252739566897331,
           0.011094838086806749,
           0.0009065406171531432,
           0.0019649009835837677,
           0.0030604715948296716,
           0.0029349367770008963,
           0.0012978293773506476,
           0.004005315705916695,
           0.002113085813909853,
           0.0020387721742512834,
           0.008033823047907432,
           0.0017466401442693678,
           0.004302340712319424,
           0.003814229821174428,
           0.004788407475657997,
           0.009572759782615287,
           0.003726825925261412,
           0.007376524674028043,
           0.017687738399302606,
           0.005474374780367077,
           0.01159385185647464,
           0.04525966087917733,
           0.09629414667196959,
           0.09707727256616203
          ],
          "colorscale": [
           [
            0,
            "rgb(12,51,131)"
           ],
           [
            0.25,
            "rgb(10,136,186)"
           ],
           [
            0.5,
            "rgb(242,211,56)"
           ],
           [
            0.75,
            "rgb(242,143,56)"
           ],
           [
            1,
            "rgb(217,30,30)"
           ]
          ],
          "showscale": true,
          "size": 13,
          "sizemode": "diameter",
          "sizeref": 1
         },
         "mode": "markers",
         "text": [
          "Age",
          "Behaviour",
          "CommunicationSkill",
          "DistanceFromHome",
          "Education",
          "EnvironmentSatisfaction",
          "JobInvolvement",
          "JobSatisfaction",
          "MonthlyIncome",
          "NumCompaniesWorked",
          "PercentSalaryHike",
          "PerformanceRating",
          "StockOptionLevel",
          "TotalWorkingYears",
          "TrainingTimesLastYear",
          "YearsAtCompany",
          "YearsInCurrentRole",
          "YearsSinceLastPromotion",
          "YearsWithCurrManager",
          "BusinessTravel_Non-Travel",
          "BusinessTravel_Travel_Frequently",
          "BusinessTravel_Travel_Rarely",
          "Department_Human Resources",
          "Department_Research & Development",
          "Department_Sales",
          "EducationField_Human Resources",
          "EducationField_Life Sciences",
          "EducationField_Marketing",
          "EducationField_Medical",
          "EducationField_Other",
          "EducationField_Technical Degree",
          "Gender_Female",
          "Gender_Male",
          "JobRole_Healthcare Representative",
          "JobRole_Human Resources",
          "JobRole_Laboratory Technician",
          "JobRole_Manager",
          "JobRole_Manufacturing Director",
          "JobRole_Research Director",
          "JobRole_Research Scientist",
          "JobRole_Sales Executive",
          "JobRole_Sales Representative",
          "MaritalStatus_Divorced",
          "MaritalStatus_Married",
          "MaritalStatus_Single",
          "OverTime_No",
          "OverTime_Yes"
         ],
         "type": "scatter",
         "x": [
          "Age",
          "Behaviour",
          "CommunicationSkill",
          "DistanceFromHome",
          "Education",
          "EnvironmentSatisfaction",
          "JobInvolvement",
          "JobSatisfaction",
          "MonthlyIncome",
          "NumCompaniesWorked",
          "PercentSalaryHike",
          "PerformanceRating",
          "StockOptionLevel",
          "TotalWorkingYears",
          "TrainingTimesLastYear",
          "YearsAtCompany",
          "YearsInCurrentRole",
          "YearsSinceLastPromotion",
          "YearsWithCurrManager",
          "BusinessTravel_Non-Travel",
          "BusinessTravel_Travel_Frequently",
          "BusinessTravel_Travel_Rarely",
          "Department_Human Resources",
          "Department_Research & Development",
          "Department_Sales",
          "EducationField_Human Resources",
          "EducationField_Life Sciences",
          "EducationField_Marketing",
          "EducationField_Medical",
          "EducationField_Other",
          "EducationField_Technical Degree",
          "Gender_Female",
          "Gender_Male",
          "JobRole_Healthcare Representative",
          "JobRole_Human Resources",
          "JobRole_Laboratory Technician",
          "JobRole_Manager",
          "JobRole_Manufacturing Director",
          "JobRole_Research Director",
          "JobRole_Research Scientist",
          "JobRole_Sales Executive",
          "JobRole_Sales Representative",
          "MaritalStatus_Divorced",
          "MaritalStatus_Married",
          "MaritalStatus_Single",
          "OverTime_No",
          "OverTime_Yes"
         ],
         "y": [
          0.0748621602895375,
          0,
          0.012476535966787541,
          0.02485681375676978,
          0.005214313785895849,
          0.01836341202606003,
          0.01923134845930926,
          0.020235278218104683,
          0.09510142274086539,
          0.011106641105008367,
          0.01367549965080924,
          0.0014163361864518154,
          0.08183578705738766,
          0.06966781183727667,
          0.01008978353769554,
          0.06165982007587541,
          0.053671326210785325,
          0.010161722845606819,
          0.04065668260767054,
          0.0027862549133824323,
          0.014779497233902188,
          0.002940417006812791,
          0.0007931070536185335,
          0.008252739566897331,
          0.011094838086806749,
          0.0009065406171531432,
          0.0019649009835837677,
          0.0030604715948296716,
          0.0029349367770008963,
          0.0012978293773506476,
          0.004005315705916695,
          0.002113085813909853,
          0.0020387721742512834,
          0.008033823047907432,
          0.0017466401442693678,
          0.004302340712319424,
          0.003814229821174428,
          0.004788407475657997,
          0.009572759782615287,
          0.003726825925261412,
          0.007376524674028043,
          0.017687738399302606,
          0.005474374780367077,
          0.01159385185647464,
          0.04525966087917733,
          0.09629414667196959,
          0.09707727256616203
         ]
        }
       ],
       "layout": {
        "autosize": true,
        "hovermode": "closest",
        "showlegend": false,
        "template": {
         "data": {
          "bar": [
           {
            "error_x": {
             "color": "#2a3f5f"
            },
            "error_y": {
             "color": "#2a3f5f"
            },
            "marker": {
             "line": {
              "color": "#E5ECF6",
              "width": 0.5
             }
            },
            "type": "bar"
           }
          ],
          "barpolar": [
           {
            "marker": {
             "line": {
              "color": "#E5ECF6",
              "width": 0.5
             }
            },
            "type": "barpolar"
           }
          ],
          "carpet": [
           {
            "aaxis": {
             "endlinecolor": "#2a3f5f",
             "gridcolor": "white",
             "linecolor": "white",
             "minorgridcolor": "white",
             "startlinecolor": "#2a3f5f"
            },
            "baxis": {
             "endlinecolor": "#2a3f5f",
             "gridcolor": "white",
             "linecolor": "white",
             "minorgridcolor": "white",
             "startlinecolor": "#2a3f5f"
            },
            "type": "carpet"
           }
          ],
          "choropleth": [
           {
            "colorbar": {
             "outlinewidth": 0,
             "ticks": ""
            },
            "type": "choropleth"
           }
          ],
          "contour": [
           {
            "colorbar": {
             "outlinewidth": 0,
             "ticks": ""
            },
            "colorscale": [
             [
              0,
              "#0d0887"
             ],
             [
              0.1111111111111111,
              "#46039f"
             ],
             [
              0.2222222222222222,
              "#7201a8"
             ],
             [
              0.3333333333333333,
              "#9c179e"
             ],
             [
              0.4444444444444444,
              "#bd3786"
             ],
             [
              0.5555555555555556,
              "#d8576b"
             ],
             [
              0.6666666666666666,
              "#ed7953"
             ],
             [
              0.7777777777777778,
              "#fb9f3a"
             ],
             [
              0.8888888888888888,
              "#fdca26"
             ],
             [
              1,
              "#f0f921"
             ]
            ],
            "type": "contour"
           }
          ],
          "contourcarpet": [
           {
            "colorbar": {
             "outlinewidth": 0,
             "ticks": ""
            },
            "type": "contourcarpet"
           }
          ],
          "heatmap": [
           {
            "colorbar": {
             "outlinewidth": 0,
             "ticks": ""
            },
            "colorscale": [
             [
              0,
              "#0d0887"
             ],
             [
              0.1111111111111111,
              "#46039f"
             ],
             [
              0.2222222222222222,
              "#7201a8"
             ],
             [
              0.3333333333333333,
              "#9c179e"
             ],
             [
              0.4444444444444444,
              "#bd3786"
             ],
             [
              0.5555555555555556,
              "#d8576b"
             ],
             [
              0.6666666666666666,
              "#ed7953"
             ],
             [
              0.7777777777777778,
              "#fb9f3a"
             ],
             [
              0.8888888888888888,
              "#fdca26"
             ],
             [
              1,
              "#f0f921"
             ]
            ],
            "type": "heatmap"
           }
          ],
          "heatmapgl": [
           {
            "colorbar": {
             "outlinewidth": 0,
             "ticks": ""
            },
            "colorscale": [
             [
              0,
              "#0d0887"
             ],
             [
              0.1111111111111111,
              "#46039f"
             ],
             [
              0.2222222222222222,
              "#7201a8"
             ],
             [
              0.3333333333333333,
              "#9c179e"
             ],
             [
              0.4444444444444444,
              "#bd3786"
             ],
             [
              0.5555555555555556,
              "#d8576b"
             ],
             [
              0.6666666666666666,
              "#ed7953"
             ],
             [
              0.7777777777777778,
              "#fb9f3a"
             ],
             [
              0.8888888888888888,
              "#fdca26"
             ],
             [
              1,
              "#f0f921"
             ]
            ],
            "type": "heatmapgl"
           }
          ],
          "histogram": [
           {
            "marker": {
             "colorbar": {
              "outlinewidth": 0,
              "ticks": ""
             }
            },
            "type": "histogram"
           }
          ],
          "histogram2d": [
           {
            "colorbar": {
             "outlinewidth": 0,
             "ticks": ""
            },
            "colorscale": [
             [
              0,
              "#0d0887"
             ],
             [
              0.1111111111111111,
              "#46039f"
             ],
             [
              0.2222222222222222,
              "#7201a8"
             ],
             [
              0.3333333333333333,
              "#9c179e"
             ],
             [
              0.4444444444444444,
              "#bd3786"
             ],
             [
              0.5555555555555556,
              "#d8576b"
             ],
             [
              0.6666666666666666,
              "#ed7953"
             ],
             [
              0.7777777777777778,
              "#fb9f3a"
             ],
             [
              0.8888888888888888,
              "#fdca26"
             ],
             [
              1,
              "#f0f921"
             ]
            ],
            "type": "histogram2d"
           }
          ],
          "histogram2dcontour": [
           {
            "colorbar": {
             "outlinewidth": 0,
             "ticks": ""
            },
            "colorscale": [
             [
              0,
              "#0d0887"
             ],
             [
              0.1111111111111111,
              "#46039f"
             ],
             [
              0.2222222222222222,
              "#7201a8"
             ],
             [
              0.3333333333333333,
              "#9c179e"
             ],
             [
              0.4444444444444444,
              "#bd3786"
             ],
             [
              0.5555555555555556,
              "#d8576b"
             ],
             [
              0.6666666666666666,
              "#ed7953"
             ],
             [
              0.7777777777777778,
              "#fb9f3a"
             ],
             [
              0.8888888888888888,
              "#fdca26"
             ],
             [
              1,
              "#f0f921"
             ]
            ],
            "type": "histogram2dcontour"
           }
          ],
          "mesh3d": [
           {
            "colorbar": {
             "outlinewidth": 0,
             "ticks": ""
            },
            "type": "mesh3d"
           }
          ],
          "parcoords": [
           {
            "line": {
             "colorbar": {
              "outlinewidth": 0,
              "ticks": ""
             }
            },
            "type": "parcoords"
           }
          ],
          "pie": [
           {
            "automargin": true,
            "type": "pie"
           }
          ],
          "scatter": [
           {
            "marker": {
             "colorbar": {
              "outlinewidth": 0,
              "ticks": ""
             }
            },
            "type": "scatter"
           }
          ],
          "scatter3d": [
           {
            "line": {
             "colorbar": {
              "outlinewidth": 0,
              "ticks": ""
             }
            },
            "marker": {
             "colorbar": {
              "outlinewidth": 0,
              "ticks": ""
             }
            },
            "type": "scatter3d"
           }
          ],
          "scattercarpet": [
           {
            "marker": {
             "colorbar": {
              "outlinewidth": 0,
              "ticks": ""
             }
            },
            "type": "scattercarpet"
           }
          ],
          "scattergeo": [
           {
            "marker": {
             "colorbar": {
              "outlinewidth": 0,
              "ticks": ""
             }
            },
            "type": "scattergeo"
           }
          ],
          "scattergl": [
           {
            "marker": {
             "colorbar": {
              "outlinewidth": 0,
              "ticks": ""
             }
            },
            "type": "scattergl"
           }
          ],
          "scattermapbox": [
           {
            "marker": {
             "colorbar": {
              "outlinewidth": 0,
              "ticks": ""
             }
            },
            "type": "scattermapbox"
           }
          ],
          "scatterpolar": [
           {
            "marker": {
             "colorbar": {
              "outlinewidth": 0,
              "ticks": ""
             }
            },
            "type": "scatterpolar"
           }
          ],
          "scatterpolargl": [
           {
            "marker": {
             "colorbar": {
              "outlinewidth": 0,
              "ticks": ""
             }
            },
            "type": "scatterpolargl"
           }
          ],
          "scatterternary": [
           {
            "marker": {
             "colorbar": {
              "outlinewidth": 0,
              "ticks": ""
             }
            },
            "type": "scatterternary"
           }
          ],
          "surface": [
           {
            "colorbar": {
             "outlinewidth": 0,
             "ticks": ""
            },
            "colorscale": [
             [
              0,
              "#0d0887"
             ],
             [
              0.1111111111111111,
              "#46039f"
             ],
             [
              0.2222222222222222,
              "#7201a8"
             ],
             [
              0.3333333333333333,
              "#9c179e"
             ],
             [
              0.4444444444444444,
              "#bd3786"
             ],
             [
              0.5555555555555556,
              "#d8576b"
             ],
             [
              0.6666666666666666,
              "#ed7953"
             ],
             [
              0.7777777777777778,
              "#fb9f3a"
             ],
             [
              0.8888888888888888,
              "#fdca26"
             ],
             [
              1,
              "#f0f921"
             ]
            ],
            "type": "surface"
           }
          ],
          "table": [
           {
            "cells": {
             "fill": {
              "color": "#EBF0F8"
             },
             "line": {
              "color": "white"
             }
            },
            "header": {
             "fill": {
              "color": "#C8D4E3"
             },
             "line": {
              "color": "white"
             }
            },
            "type": "table"
           }
          ]
         },
         "layout": {
          "annotationdefaults": {
           "arrowcolor": "#2a3f5f",
           "arrowhead": 0,
           "arrowwidth": 1
          },
          "coloraxis": {
           "colorbar": {
            "outlinewidth": 0,
            "ticks": ""
           }
          },
          "colorscale": {
           "diverging": [
            [
             0,
             "#8e0152"
            ],
            [
             0.1,
             "#c51b7d"
            ],
            [
             0.2,
             "#de77ae"
            ],
            [
             0.3,
             "#f1b6da"
            ],
            [
             0.4,
             "#fde0ef"
            ],
            [
             0.5,
             "#f7f7f7"
            ],
            [
             0.6,
             "#e6f5d0"
            ],
            [
             0.7,
             "#b8e186"
            ],
            [
             0.8,
             "#7fbc41"
            ],
            [
             0.9,
             "#4d9221"
            ],
            [
             1,
             "#276419"
            ]
           ],
           "sequential": [
            [
             0,
             "#0d0887"
            ],
            [
             0.1111111111111111,
             "#46039f"
            ],
            [
             0.2222222222222222,
             "#7201a8"
            ],
            [
             0.3333333333333333,
             "#9c179e"
            ],
            [
             0.4444444444444444,
             "#bd3786"
            ],
            [
             0.5555555555555556,
             "#d8576b"
            ],
            [
             0.6666666666666666,
             "#ed7953"
            ],
            [
             0.7777777777777778,
             "#fb9f3a"
            ],
            [
             0.8888888888888888,
             "#fdca26"
            ],
            [
             1,
             "#f0f921"
            ]
           ],
           "sequentialminus": [
            [
             0,
             "#0d0887"
            ],
            [
             0.1111111111111111,
             "#46039f"
            ],
            [
             0.2222222222222222,
             "#7201a8"
            ],
            [
             0.3333333333333333,
             "#9c179e"
            ],
            [
             0.4444444444444444,
             "#bd3786"
            ],
            [
             0.5555555555555556,
             "#d8576b"
            ],
            [
             0.6666666666666666,
             "#ed7953"
            ],
            [
             0.7777777777777778,
             "#fb9f3a"
            ],
            [
             0.8888888888888888,
             "#fdca26"
            ],
            [
             1,
             "#f0f921"
            ]
           ]
          },
          "colorway": [
           "#636efa",
           "#EF553B",
           "#00cc96",
           "#ab63fa",
           "#FFA15A",
           "#19d3f3",
           "#FF6692",
           "#B6E880",
           "#FF97FF",
           "#FECB52"
          ],
          "font": {
           "color": "#2a3f5f"
          },
          "geo": {
           "bgcolor": "white",
           "lakecolor": "white",
           "landcolor": "#E5ECF6",
           "showlakes": true,
           "showland": true,
           "subunitcolor": "white"
          },
          "hoverlabel": {
           "align": "left"
          },
          "hovermode": "closest",
          "mapbox": {
           "style": "light"
          },
          "paper_bgcolor": "white",
          "plot_bgcolor": "#E5ECF6",
          "polar": {
           "angularaxis": {
            "gridcolor": "white",
            "linecolor": "white",
            "ticks": ""
           },
           "bgcolor": "#E5ECF6",
           "radialaxis": {
            "gridcolor": "white",
            "linecolor": "white",
            "ticks": ""
           }
          },
          "scene": {
           "xaxis": {
            "backgroundcolor": "#E5ECF6",
            "gridcolor": "white",
            "gridwidth": 2,
            "linecolor": "white",
            "showbackground": true,
            "ticks": "",
            "zerolinecolor": "white"
           },
           "yaxis": {
            "backgroundcolor": "#E5ECF6",
            "gridcolor": "white",
            "gridwidth": 2,
            "linecolor": "white",
            "showbackground": true,
            "ticks": "",
            "zerolinecolor": "white"
           },
           "zaxis": {
            "backgroundcolor": "#E5ECF6",
            "gridcolor": "white",
            "gridwidth": 2,
            "linecolor": "white",
            "showbackground": true,
            "ticks": "",
            "zerolinecolor": "white"
           }
          },
          "shapedefaults": {
           "line": {
            "color": "#2a3f5f"
           }
          },
          "ternary": {
           "aaxis": {
            "gridcolor": "white",
            "linecolor": "white",
            "ticks": ""
           },
           "baxis": {
            "gridcolor": "white",
            "linecolor": "white",
            "ticks": ""
           },
           "bgcolor": "#E5ECF6",
           "caxis": {
            "gridcolor": "white",
            "linecolor": "white",
            "ticks": ""
           }
          },
          "title": {
           "x": 0.05
          },
          "xaxis": {
           "automargin": true,
           "gridcolor": "white",
           "linecolor": "white",
           "ticks": "",
           "title": {
            "standoff": 15
           },
           "zerolinecolor": "white",
           "zerolinewidth": 2
          },
          "yaxis": {
           "automargin": true,
           "gridcolor": "white",
           "linecolor": "white",
           "ticks": "",
           "title": {
            "standoff": 15
           },
           "zerolinecolor": "white",
           "zerolinewidth": 2
          }
         }
        },
        "title": {
         "text": "Random Forest Feature Importance"
        },
        "xaxis": {
         "showgrid": false,
         "showline": false,
         "ticklen": 5,
         "zeroline": false
        },
        "yaxis": {
         "gridwidth": 2,
         "showgrid": false,
         "ticklen": 5,
         "title": {
          "text": "Feature Importance"
         },
         "zeroline": false
        }
       }
      },
      "text/html": [
       "<div>\n",
       "        \n",
       "        \n",
       "            <div id=\"09ed6012-511a-4341-b3d7-846eb16f905b\" class=\"plotly-graph-div\" style=\"height:525px; width:100%;\"></div>\n",
       "            <script type=\"text/javascript\">\n",
       "                require([\"plotly\"], function(Plotly) {\n",
       "                    window.PLOTLYENV=window.PLOTLYENV || {};\n",
       "                    \n",
       "                if (document.getElementById(\"09ed6012-511a-4341-b3d7-846eb16f905b\")) {\n",
       "                    Plotly.newPlot(\n",
       "                        '09ed6012-511a-4341-b3d7-846eb16f905b',\n",
       "                        [{\"marker\": {\"color\": [0.0748621602895375, 0.0, 0.012476535966787541, 0.02485681375676978, 0.005214313785895849, 0.01836341202606003, 0.01923134845930926, 0.020235278218104683, 0.09510142274086539, 0.011106641105008367, 0.01367549965080924, 0.0014163361864518154, 0.08183578705738766, 0.06966781183727667, 0.01008978353769554, 0.06165982007587541, 0.053671326210785325, 0.010161722845606819, 0.04065668260767054, 0.0027862549133824323, 0.014779497233902188, 0.002940417006812791, 0.0007931070536185335, 0.008252739566897331, 0.011094838086806749, 0.0009065406171531432, 0.0019649009835837677, 0.0030604715948296716, 0.0029349367770008963, 0.0012978293773506476, 0.004005315705916695, 0.002113085813909853, 0.0020387721742512834, 0.008033823047907432, 0.0017466401442693678, 0.004302340712319424, 0.003814229821174428, 0.004788407475657997, 0.009572759782615287, 0.003726825925261412, 0.007376524674028043, 0.017687738399302606, 0.005474374780367077, 0.01159385185647464, 0.04525966087917733, 0.09629414667196959, 0.09707727256616203], \"colorscale\": [[0.0, \"rgb(12,51,131)\"], [0.25, \"rgb(10,136,186)\"], [0.5, \"rgb(242,211,56)\"], [0.75, \"rgb(242,143,56)\"], [1.0, \"rgb(217,30,30)\"]], \"showscale\": true, \"size\": 13, \"sizemode\": \"diameter\", \"sizeref\": 1}, \"mode\": \"markers\", \"text\": [\"Age\", \"Behaviour\", \"CommunicationSkill\", \"DistanceFromHome\", \"Education\", \"EnvironmentSatisfaction\", \"JobInvolvement\", \"JobSatisfaction\", \"MonthlyIncome\", \"NumCompaniesWorked\", \"PercentSalaryHike\", \"PerformanceRating\", \"StockOptionLevel\", \"TotalWorkingYears\", \"TrainingTimesLastYear\", \"YearsAtCompany\", \"YearsInCurrentRole\", \"YearsSinceLastPromotion\", \"YearsWithCurrManager\", \"BusinessTravel_Non-Travel\", \"BusinessTravel_Travel_Frequently\", \"BusinessTravel_Travel_Rarely\", \"Department_Human Resources\", \"Department_Research & Development\", \"Department_Sales\", \"EducationField_Human Resources\", \"EducationField_Life Sciences\", \"EducationField_Marketing\", \"EducationField_Medical\", \"EducationField_Other\", \"EducationField_Technical Degree\", \"Gender_Female\", \"Gender_Male\", \"JobRole_Healthcare Representative\", \"JobRole_Human Resources\", \"JobRole_Laboratory Technician\", \"JobRole_Manager\", \"JobRole_Manufacturing Director\", \"JobRole_Research Director\", \"JobRole_Research Scientist\", \"JobRole_Sales Executive\", \"JobRole_Sales Representative\", \"MaritalStatus_Divorced\", \"MaritalStatus_Married\", \"MaritalStatus_Single\", \"OverTime_No\", \"OverTime_Yes\"], \"type\": \"scatter\", \"x\": [\"Age\", \"Behaviour\", \"CommunicationSkill\", \"DistanceFromHome\", \"Education\", \"EnvironmentSatisfaction\", \"JobInvolvement\", \"JobSatisfaction\", \"MonthlyIncome\", \"NumCompaniesWorked\", \"PercentSalaryHike\", \"PerformanceRating\", \"StockOptionLevel\", \"TotalWorkingYears\", \"TrainingTimesLastYear\", \"YearsAtCompany\", \"YearsInCurrentRole\", \"YearsSinceLastPromotion\", \"YearsWithCurrManager\", \"BusinessTravel_Non-Travel\", \"BusinessTravel_Travel_Frequently\", \"BusinessTravel_Travel_Rarely\", \"Department_Human Resources\", \"Department_Research & Development\", \"Department_Sales\", \"EducationField_Human Resources\", \"EducationField_Life Sciences\", \"EducationField_Marketing\", \"EducationField_Medical\", \"EducationField_Other\", \"EducationField_Technical Degree\", \"Gender_Female\", \"Gender_Male\", \"JobRole_Healthcare Representative\", \"JobRole_Human Resources\", \"JobRole_Laboratory Technician\", \"JobRole_Manager\", \"JobRole_Manufacturing Director\", \"JobRole_Research Director\", \"JobRole_Research Scientist\", \"JobRole_Sales Executive\", \"JobRole_Sales Representative\", \"MaritalStatus_Divorced\", \"MaritalStatus_Married\", \"MaritalStatus_Single\", \"OverTime_No\", \"OverTime_Yes\"], \"y\": [0.0748621602895375, 0.0, 0.012476535966787541, 0.02485681375676978, 0.005214313785895849, 0.01836341202606003, 0.01923134845930926, 0.020235278218104683, 0.09510142274086539, 0.011106641105008367, 0.01367549965080924, 0.0014163361864518154, 0.08183578705738766, 0.06966781183727667, 0.01008978353769554, 0.06165982007587541, 0.053671326210785325, 0.010161722845606819, 0.04065668260767054, 0.0027862549133824323, 0.014779497233902188, 0.002940417006812791, 0.0007931070536185335, 0.008252739566897331, 0.011094838086806749, 0.0009065406171531432, 0.0019649009835837677, 0.0030604715948296716, 0.0029349367770008963, 0.0012978293773506476, 0.004005315705916695, 0.002113085813909853, 0.0020387721742512834, 0.008033823047907432, 0.0017466401442693678, 0.004302340712319424, 0.003814229821174428, 0.004788407475657997, 0.009572759782615287, 0.003726825925261412, 0.007376524674028043, 0.017687738399302606, 0.005474374780367077, 0.01159385185647464, 0.04525966087917733, 0.09629414667196959, 0.09707727256616203]}],\n",
       "                        {\"autosize\": true, \"hovermode\": \"closest\", \"showlegend\": false, \"template\": {\"data\": {\"bar\": [{\"error_x\": {\"color\": \"#2a3f5f\"}, \"error_y\": {\"color\": \"#2a3f5f\"}, \"marker\": {\"line\": {\"color\": \"#E5ECF6\", \"width\": 0.5}}, \"type\": \"bar\"}], \"barpolar\": [{\"marker\": {\"line\": {\"color\": \"#E5ECF6\", \"width\": 0.5}}, \"type\": \"barpolar\"}], \"carpet\": [{\"aaxis\": {\"endlinecolor\": \"#2a3f5f\", \"gridcolor\": \"white\", \"linecolor\": \"white\", \"minorgridcolor\": \"white\", \"startlinecolor\": \"#2a3f5f\"}, \"baxis\": {\"endlinecolor\": \"#2a3f5f\", \"gridcolor\": \"white\", \"linecolor\": \"white\", \"minorgridcolor\": \"white\", \"startlinecolor\": \"#2a3f5f\"}, \"type\": \"carpet\"}], \"choropleth\": [{\"colorbar\": {\"outlinewidth\": 0, \"ticks\": \"\"}, \"type\": \"choropleth\"}], \"contour\": [{\"colorbar\": {\"outlinewidth\": 0, \"ticks\": \"\"}, \"colorscale\": [[0.0, \"#0d0887\"], [0.1111111111111111, \"#46039f\"], [0.2222222222222222, \"#7201a8\"], [0.3333333333333333, \"#9c179e\"], [0.4444444444444444, \"#bd3786\"], [0.5555555555555556, \"#d8576b\"], [0.6666666666666666, \"#ed7953\"], [0.7777777777777778, \"#fb9f3a\"], [0.8888888888888888, \"#fdca26\"], [1.0, \"#f0f921\"]], \"type\": \"contour\"}], \"contourcarpet\": [{\"colorbar\": {\"outlinewidth\": 0, \"ticks\": \"\"}, \"type\": \"contourcarpet\"}], \"heatmap\": [{\"colorbar\": {\"outlinewidth\": 0, \"ticks\": \"\"}, \"colorscale\": [[0.0, \"#0d0887\"], [0.1111111111111111, \"#46039f\"], [0.2222222222222222, \"#7201a8\"], [0.3333333333333333, \"#9c179e\"], [0.4444444444444444, \"#bd3786\"], [0.5555555555555556, \"#d8576b\"], [0.6666666666666666, \"#ed7953\"], [0.7777777777777778, \"#fb9f3a\"], [0.8888888888888888, \"#fdca26\"], [1.0, \"#f0f921\"]], \"type\": \"heatmap\"}], \"heatmapgl\": [{\"colorbar\": {\"outlinewidth\": 0, \"ticks\": \"\"}, \"colorscale\": [[0.0, \"#0d0887\"], [0.1111111111111111, \"#46039f\"], [0.2222222222222222, \"#7201a8\"], [0.3333333333333333, \"#9c179e\"], [0.4444444444444444, \"#bd3786\"], [0.5555555555555556, \"#d8576b\"], [0.6666666666666666, \"#ed7953\"], [0.7777777777777778, \"#fb9f3a\"], [0.8888888888888888, \"#fdca26\"], [1.0, \"#f0f921\"]], \"type\": \"heatmapgl\"}], \"histogram\": [{\"marker\": {\"colorbar\": {\"outlinewidth\": 0, \"ticks\": \"\"}}, \"type\": \"histogram\"}], \"histogram2d\": [{\"colorbar\": {\"outlinewidth\": 0, \"ticks\": \"\"}, \"colorscale\": [[0.0, \"#0d0887\"], [0.1111111111111111, \"#46039f\"], [0.2222222222222222, \"#7201a8\"], [0.3333333333333333, \"#9c179e\"], [0.4444444444444444, \"#bd3786\"], [0.5555555555555556, \"#d8576b\"], [0.6666666666666666, \"#ed7953\"], [0.7777777777777778, \"#fb9f3a\"], [0.8888888888888888, \"#fdca26\"], [1.0, \"#f0f921\"]], \"type\": \"histogram2d\"}], \"histogram2dcontour\": [{\"colorbar\": {\"outlinewidth\": 0, \"ticks\": \"\"}, \"colorscale\": [[0.0, \"#0d0887\"], [0.1111111111111111, \"#46039f\"], [0.2222222222222222, \"#7201a8\"], [0.3333333333333333, \"#9c179e\"], [0.4444444444444444, \"#bd3786\"], [0.5555555555555556, \"#d8576b\"], [0.6666666666666666, \"#ed7953\"], [0.7777777777777778, \"#fb9f3a\"], [0.8888888888888888, \"#fdca26\"], [1.0, \"#f0f921\"]], \"type\": \"histogram2dcontour\"}], \"mesh3d\": [{\"colorbar\": {\"outlinewidth\": 0, \"ticks\": \"\"}, \"type\": \"mesh3d\"}], \"parcoords\": [{\"line\": {\"colorbar\": {\"outlinewidth\": 0, \"ticks\": \"\"}}, \"type\": \"parcoords\"}], \"pie\": [{\"automargin\": true, \"type\": \"pie\"}], \"scatter\": [{\"marker\": {\"colorbar\": {\"outlinewidth\": 0, \"ticks\": \"\"}}, \"type\": \"scatter\"}], \"scatter3d\": [{\"line\": {\"colorbar\": {\"outlinewidth\": 0, \"ticks\": \"\"}}, \"marker\": {\"colorbar\": {\"outlinewidth\": 0, \"ticks\": \"\"}}, \"type\": \"scatter3d\"}], \"scattercarpet\": [{\"marker\": {\"colorbar\": {\"outlinewidth\": 0, \"ticks\": \"\"}}, \"type\": \"scattercarpet\"}], \"scattergeo\": [{\"marker\": {\"colorbar\": {\"outlinewidth\": 0, \"ticks\": \"\"}}, \"type\": \"scattergeo\"}], \"scattergl\": [{\"marker\": {\"colorbar\": {\"outlinewidth\": 0, \"ticks\": \"\"}}, \"type\": \"scattergl\"}], \"scattermapbox\": [{\"marker\": {\"colorbar\": {\"outlinewidth\": 0, \"ticks\": \"\"}}, \"type\": \"scattermapbox\"}], \"scatterpolar\": [{\"marker\": {\"colorbar\": {\"outlinewidth\": 0, \"ticks\": \"\"}}, \"type\": \"scatterpolar\"}], \"scatterpolargl\": [{\"marker\": {\"colorbar\": {\"outlinewidth\": 0, \"ticks\": \"\"}}, \"type\": \"scatterpolargl\"}], \"scatterternary\": [{\"marker\": {\"colorbar\": {\"outlinewidth\": 0, \"ticks\": \"\"}}, \"type\": \"scatterternary\"}], \"surface\": [{\"colorbar\": {\"outlinewidth\": 0, \"ticks\": \"\"}, \"colorscale\": [[0.0, \"#0d0887\"], [0.1111111111111111, \"#46039f\"], [0.2222222222222222, \"#7201a8\"], [0.3333333333333333, \"#9c179e\"], [0.4444444444444444, \"#bd3786\"], [0.5555555555555556, \"#d8576b\"], [0.6666666666666666, \"#ed7953\"], [0.7777777777777778, \"#fb9f3a\"], [0.8888888888888888, \"#fdca26\"], [1.0, \"#f0f921\"]], \"type\": \"surface\"}], \"table\": [{\"cells\": {\"fill\": {\"color\": \"#EBF0F8\"}, \"line\": {\"color\": \"white\"}}, \"header\": {\"fill\": {\"color\": \"#C8D4E3\"}, \"line\": {\"color\": \"white\"}}, \"type\": \"table\"}]}, \"layout\": {\"annotationdefaults\": {\"arrowcolor\": \"#2a3f5f\", \"arrowhead\": 0, \"arrowwidth\": 1}, \"coloraxis\": {\"colorbar\": {\"outlinewidth\": 0, \"ticks\": \"\"}}, \"colorscale\": {\"diverging\": [[0, \"#8e0152\"], [0.1, \"#c51b7d\"], [0.2, \"#de77ae\"], [0.3, \"#f1b6da\"], [0.4, \"#fde0ef\"], [0.5, \"#f7f7f7\"], [0.6, \"#e6f5d0\"], [0.7, \"#b8e186\"], [0.8, \"#7fbc41\"], [0.9, \"#4d9221\"], [1, \"#276419\"]], \"sequential\": [[0.0, \"#0d0887\"], [0.1111111111111111, \"#46039f\"], [0.2222222222222222, \"#7201a8\"], [0.3333333333333333, \"#9c179e\"], [0.4444444444444444, \"#bd3786\"], [0.5555555555555556, \"#d8576b\"], [0.6666666666666666, \"#ed7953\"], [0.7777777777777778, \"#fb9f3a\"], [0.8888888888888888, \"#fdca26\"], [1.0, \"#f0f921\"]], \"sequentialminus\": [[0.0, \"#0d0887\"], [0.1111111111111111, \"#46039f\"], [0.2222222222222222, \"#7201a8\"], [0.3333333333333333, \"#9c179e\"], [0.4444444444444444, \"#bd3786\"], [0.5555555555555556, \"#d8576b\"], [0.6666666666666666, \"#ed7953\"], [0.7777777777777778, \"#fb9f3a\"], [0.8888888888888888, \"#fdca26\"], [1.0, \"#f0f921\"]]}, \"colorway\": [\"#636efa\", \"#EF553B\", \"#00cc96\", \"#ab63fa\", \"#FFA15A\", \"#19d3f3\", \"#FF6692\", \"#B6E880\", \"#FF97FF\", \"#FECB52\"], \"font\": {\"color\": \"#2a3f5f\"}, \"geo\": {\"bgcolor\": \"white\", \"lakecolor\": \"white\", \"landcolor\": \"#E5ECF6\", \"showlakes\": true, \"showland\": true, \"subunitcolor\": \"white\"}, \"hoverlabel\": {\"align\": \"left\"}, \"hovermode\": \"closest\", \"mapbox\": {\"style\": \"light\"}, \"paper_bgcolor\": \"white\", \"plot_bgcolor\": \"#E5ECF6\", \"polar\": {\"angularaxis\": {\"gridcolor\": \"white\", \"linecolor\": \"white\", \"ticks\": \"\"}, \"bgcolor\": \"#E5ECF6\", \"radialaxis\": {\"gridcolor\": \"white\", \"linecolor\": \"white\", \"ticks\": \"\"}}, \"scene\": {\"xaxis\": {\"backgroundcolor\": \"#E5ECF6\", \"gridcolor\": \"white\", \"gridwidth\": 2, \"linecolor\": \"white\", \"showbackground\": true, \"ticks\": \"\", \"zerolinecolor\": \"white\"}, \"yaxis\": {\"backgroundcolor\": \"#E5ECF6\", \"gridcolor\": \"white\", \"gridwidth\": 2, \"linecolor\": \"white\", \"showbackground\": true, \"ticks\": \"\", \"zerolinecolor\": \"white\"}, \"zaxis\": {\"backgroundcolor\": \"#E5ECF6\", \"gridcolor\": \"white\", \"gridwidth\": 2, \"linecolor\": \"white\", \"showbackground\": true, \"ticks\": \"\", \"zerolinecolor\": \"white\"}}, \"shapedefaults\": {\"line\": {\"color\": \"#2a3f5f\"}}, \"ternary\": {\"aaxis\": {\"gridcolor\": \"white\", \"linecolor\": \"white\", \"ticks\": \"\"}, \"baxis\": {\"gridcolor\": \"white\", \"linecolor\": \"white\", \"ticks\": \"\"}, \"bgcolor\": \"#E5ECF6\", \"caxis\": {\"gridcolor\": \"white\", \"linecolor\": \"white\", \"ticks\": \"\"}}, \"title\": {\"x\": 0.05}, \"xaxis\": {\"automargin\": true, \"gridcolor\": \"white\", \"linecolor\": \"white\", \"ticks\": \"\", \"title\": {\"standoff\": 15}, \"zerolinecolor\": \"white\", \"zerolinewidth\": 2}, \"yaxis\": {\"automargin\": true, \"gridcolor\": \"white\", \"linecolor\": \"white\", \"ticks\": \"\", \"title\": {\"standoff\": 15}, \"zerolinecolor\": \"white\", \"zerolinewidth\": 2}}}, \"title\": {\"text\": \"Random Forest Feature Importance\"}, \"xaxis\": {\"showgrid\": false, \"showline\": false, \"ticklen\": 5, \"zeroline\": false}, \"yaxis\": {\"gridwidth\": 2, \"showgrid\": false, \"ticklen\": 5, \"title\": {\"text\": \"Feature Importance\"}, \"zeroline\": false}},\n",
       "                        {\"responsive\": true}\n",
       "                    ).then(function(){\n",
       "                            \n",
       "var gd = document.getElementById('09ed6012-511a-4341-b3d7-846eb16f905b');\n",
       "var x = new MutationObserver(function (mutations, observer) {{\n",
       "        var display = window.getComputedStyle(gd).display;\n",
       "        if (!display || display === 'none') {{\n",
       "            console.log([gd, 'removed!']);\n",
       "            Plotly.purge(gd);\n",
       "            observer.disconnect();\n",
       "        }}\n",
       "}});\n",
       "\n",
       "// Listen for the removal of the full notebook cells\n",
       "var notebookContainer = gd.closest('#notebook-container');\n",
       "if (notebookContainer) {{\n",
       "    x.observe(notebookContainer, {childList: true});\n",
       "}}\n",
       "\n",
       "// Listen for the clearing of the current output cell\n",
       "var outputEl = gd.closest('.output');\n",
       "if (outputEl) {{\n",
       "    x.observe(outputEl, {childList: true});\n",
       "}}\n",
       "\n",
       "                        })\n",
       "                };\n",
       "                });\n",
       "            </script>\n",
       "        </div>"
      ]
     },
     "metadata": {},
     "output_type": "display_data"
    }
   ],
   "source": [
    "# Scatter plot \n",
    "trace = go.Scatter(\n",
    "    y = rf.feature_importances_,\n",
    "    x = attrition_final.columns.values,\n",
    "    mode='markers',\n",
    "    marker=dict(\n",
    "        sizemode = 'diameter',\n",
    "        sizeref = 1,\n",
    "        size = 13,\n",
    "        #size= rf.feature_importances_,\n",
    "        #color = np.random.randn(500), #set color equal to a variable\n",
    "        color = rf.feature_importances_,\n",
    "        colorscale='Portland',\n",
    "        showscale=True\n",
    "    ),\n",
    "    text = attrition_final.columns.values\n",
    ")\n",
    "data = [trace]\n",
    "\n",
    "layout= go.Layout(\n",
    "    autosize= True,\n",
    "    title= 'Random Forest Feature Importance',\n",
    "    hovermode= 'closest',\n",
    "     xaxis= dict(\n",
    "         ticklen= 5,\n",
    "         showgrid=False,\n",
    "        zeroline=False,\n",
    "        showline=False\n",
    "     ),\n",
    "    yaxis=dict(\n",
    "        title= 'Feature Importance',\n",
    "        showgrid=False,\n",
    "        zeroline=False,\n",
    "        ticklen= 5,\n",
    "        gridwidth= 2\n",
    "    ),\n",
    "    showlegend= False\n",
    ")\n",
    "fig = go.Figure(data=data, layout=layout)\n",
    "py.iplot(fig,filename='scatter2010')"
   ]
  },
  {
   "cell_type": "code",
   "execution_count": 62,
   "metadata": {},
   "outputs": [
    {
     "name": "stdout",
     "output_type": "stream",
     "text": [
      "Predictions have finished\n"
     ]
    }
   ],
   "source": [
    "# Gradient Boosting Parameters\n",
    "gb_params ={\n",
    "    'n_estimators': 1500,\n",
    "    'max_features': 0.9,\n",
    "    'learning_rate' : 0.25,\n",
    "    'max_depth': 4,\n",
    "    'min_samples_leaf': 2,\n",
    "    'subsample': 1,\n",
    "    'max_features' : 'sqrt',\n",
    "    'random_state' : seed,\n",
    "    'verbose': 0\n",
    "}\n",
    "gb = GradientBoostingClassifier(**gb_params)\n",
    "# Fit the model to our SMOTEd train and target\n",
    "gb.fit(train, target_train)\n",
    "# Get our predictions\n",
    "gb_predictions = gb.predict(test)\n",
    "print(\"Predictions have finished\")"
   ]
  },
  {
   "cell_type": "code",
   "execution_count": 63,
   "metadata": {},
   "outputs": [
    {
     "name": "stdout",
     "output_type": "stream",
     "text": [
      "0.9693251533742331\n",
      "              precision    recall  f1-score   support\n",
      "\n",
      "           0       1.00      0.94      0.97       161\n",
      "           1       0.94      1.00      0.97       165\n",
      "\n",
      "    accuracy                           0.97       326\n",
      "   macro avg       0.97      0.97      0.97       326\n",
      "weighted avg       0.97      0.97      0.97       326\n",
      "\n"
     ]
    }
   ],
   "source": [
    "print(accuracy_score(target_val, gb_predictions))\n",
    "print(classification_report(target_val, gb_predictions))\n"
   ]
  },
  {
   "cell_type": "code",
   "execution_count": 64,
   "metadata": {},
   "outputs": [
    {
     "data": {
      "text/plain": [
       "array([1, 0, 1, 0, 0, 0, 1, 1, 1, 1, 0, 0, 0, 1, 0, 1, 1, 0, 0, 1, 1, 1,\n",
       "       1, 0, 0, 1, 1, 1, 0, 1, 1, 0, 1, 1, 0, 0, 1, 0, 1, 1, 0, 1, 1, 0,\n",
       "       1, 0, 1, 0, 0, 1, 0, 1, 0, 0, 0, 0, 0, 0, 0, 0, 0, 0, 1, 0, 0, 1,\n",
       "       0, 0, 0, 1, 1, 1, 1, 1, 0, 1, 1, 1, 1, 0, 0, 1, 0, 1, 0, 1, 0, 0,\n",
       "       1, 1, 1, 1, 0, 0, 1, 0, 0, 1, 1, 1, 1, 1, 0, 0, 0, 1, 1, 1, 0, 1,\n",
       "       1, 0, 0, 0, 1, 0, 0, 0, 1, 1, 0, 1, 1, 1, 1, 1, 0, 0, 1, 1, 1, 1,\n",
       "       0, 1, 1, 1, 1, 1, 0, 1, 1, 0, 0, 0, 1, 1, 1, 0, 1, 0, 1, 0, 0, 1,\n",
       "       0, 1, 1, 0, 0, 1, 1, 1, 1, 1, 1, 1, 1, 1, 1, 0, 0, 0, 0, 1, 1, 1,\n",
       "       1, 0, 0, 0, 0, 1, 1, 1, 1, 0, 0, 1, 1, 1, 0, 0, 1, 0, 0, 0, 1, 1,\n",
       "       0, 0, 0, 1, 1, 0, 0, 1, 0, 0, 1, 1, 1, 0, 1, 1, 1, 0, 0, 1, 1, 0,\n",
       "       1, 1, 0, 1, 1, 0, 0, 1, 0, 0, 0, 0, 1, 1, 1, 1, 0, 1, 1, 0, 0, 0,\n",
       "       0, 1, 1, 0, 0, 0, 0, 1, 0, 1, 1, 1, 0, 0, 0, 1, 1, 0, 0, 0, 0, 0,\n",
       "       1, 1, 1, 1, 1, 1, 0, 0, 1, 0, 1, 0, 1, 1, 1, 1, 0, 1, 1, 1, 1, 1,\n",
       "       1, 0, 0, 0, 1, 1, 1, 0, 0, 0, 0, 1, 0, 0, 0, 0, 0, 0, 1, 0, 0, 1,\n",
       "       1, 0, 1, 0, 0, 1, 1, 1, 1, 1, 1, 1, 0, 0, 0, 1, 1, 1], dtype=int64)"
      ]
     },
     "execution_count": 64,
     "metadata": {},
     "output_type": "execute_result"
    }
   ],
   "source": [
    "gb_predictions"
   ]
  },
  {
   "cell_type": "code",
   "execution_count": 65,
   "metadata": {},
   "outputs": [
    {
     "ename": "AttributeError",
     "evalue": "'DataFrame' object has no attribute 'Id'",
     "output_type": "error",
     "traceback": [
      "\u001b[1;31m---------------------------------------------------------------------------\u001b[0m",
      "\u001b[1;31mAttributeError\u001b[0m                            Traceback (most recent call last)",
      "\u001b[1;32m<ipython-input-65-b922a8730a3c>\u001b[0m in \u001b[0;36m<module>\u001b[1;34m\u001b[0m\n\u001b[1;32m----> 1\u001b[1;33m \u001b[0msolution\u001b[0m \u001b[1;33m=\u001b[0m \u001b[0mpd\u001b[0m\u001b[1;33m.\u001b[0m\u001b[0mDataFrame\u001b[0m\u001b[1;33m(\u001b[0m\u001b[1;33m{\u001b[0m\u001b[1;34m\"id\"\u001b[0m\u001b[1;33m:\u001b[0m\u001b[0mtest\u001b[0m\u001b[1;33m.\u001b[0m\u001b[0mId\u001b[0m\u001b[1;33m,\u001b[0m \u001b[1;34m\"Attrition\"\u001b[0m\u001b[1;33m:\u001b[0m\u001b[0mgb_predictions\u001b[0m\u001b[1;33m}\u001b[0m\u001b[1;33m)\u001b[0m\u001b[1;33m\u001b[0m\u001b[1;33m\u001b[0m\u001b[0m\n\u001b[0m\u001b[0;32m      2\u001b[0m \u001b[0msolution\u001b[0m\u001b[1;33m.\u001b[0m\u001b[0mto_csv\u001b[0m\u001b[1;33m(\u001b[0m\u001b[1;34m\"attrition.csv\"\u001b[0m\u001b[1;33m,\u001b[0m \u001b[0mindex\u001b[0m \u001b[1;33m=\u001b[0m \u001b[1;32mFalse\u001b[0m\u001b[1;33m)\u001b[0m\u001b[1;33m\u001b[0m\u001b[1;33m\u001b[0m\u001b[0m\n",
      "\u001b[1;32m~\\anaconda3\\lib\\site-packages\\pandas\\core\\generic.py\u001b[0m in \u001b[0;36m__getattr__\u001b[1;34m(self, name)\u001b[0m\n\u001b[0;32m   5272\u001b[0m             \u001b[1;32mif\u001b[0m \u001b[0mself\u001b[0m\u001b[1;33m.\u001b[0m\u001b[0m_info_axis\u001b[0m\u001b[1;33m.\u001b[0m\u001b[0m_can_hold_identifiers_and_holds_name\u001b[0m\u001b[1;33m(\u001b[0m\u001b[0mname\u001b[0m\u001b[1;33m)\u001b[0m\u001b[1;33m:\u001b[0m\u001b[1;33m\u001b[0m\u001b[1;33m\u001b[0m\u001b[0m\n\u001b[0;32m   5273\u001b[0m                 \u001b[1;32mreturn\u001b[0m \u001b[0mself\u001b[0m\u001b[1;33m[\u001b[0m\u001b[0mname\u001b[0m\u001b[1;33m]\u001b[0m\u001b[1;33m\u001b[0m\u001b[1;33m\u001b[0m\u001b[0m\n\u001b[1;32m-> 5274\u001b[1;33m             \u001b[1;32mreturn\u001b[0m \u001b[0mobject\u001b[0m\u001b[1;33m.\u001b[0m\u001b[0m__getattribute__\u001b[0m\u001b[1;33m(\u001b[0m\u001b[0mself\u001b[0m\u001b[1;33m,\u001b[0m \u001b[0mname\u001b[0m\u001b[1;33m)\u001b[0m\u001b[1;33m\u001b[0m\u001b[1;33m\u001b[0m\u001b[0m\n\u001b[0m\u001b[0;32m   5275\u001b[0m \u001b[1;33m\u001b[0m\u001b[0m\n\u001b[0;32m   5276\u001b[0m     \u001b[1;32mdef\u001b[0m \u001b[0m__setattr__\u001b[0m\u001b[1;33m(\u001b[0m\u001b[0mself\u001b[0m\u001b[1;33m,\u001b[0m \u001b[0mname\u001b[0m\u001b[1;33m:\u001b[0m \u001b[0mstr\u001b[0m\u001b[1;33m,\u001b[0m \u001b[0mvalue\u001b[0m\u001b[1;33m)\u001b[0m \u001b[1;33m->\u001b[0m \u001b[1;32mNone\u001b[0m\u001b[1;33m:\u001b[0m\u001b[1;33m\u001b[0m\u001b[1;33m\u001b[0m\u001b[0m\n",
      "\u001b[1;31mAttributeError\u001b[0m: 'DataFrame' object has no attribute 'Id'"
     ]
    }
   ],
   "source": [
    "solution = pd.DataFrame({\"id\":test.Id, \"Attrition\":gb_predictions})\n",
    "solution.to_csv(\"attrition.csv\", index = False)"
   ]
  },
  {
   "cell_type": "code",
   "execution_count": null,
   "metadata": {},
   "outputs": [],
   "source": []
  }
 ],
 "metadata": {
  "kernelspec": {
   "display_name": "Python 3",
   "language": "python",
   "name": "python3"
  },
  "language_info": {
   "codemirror_mode": {
    "name": "ipython",
    "version": 3
   },
   "file_extension": ".py",
   "mimetype": "text/x-python",
   "name": "python",
   "nbconvert_exporter": "python",
   "pygments_lexer": "ipython3",
   "version": "3.7.6"
  }
 },
 "nbformat": 4,
 "nbformat_minor": 4
}
